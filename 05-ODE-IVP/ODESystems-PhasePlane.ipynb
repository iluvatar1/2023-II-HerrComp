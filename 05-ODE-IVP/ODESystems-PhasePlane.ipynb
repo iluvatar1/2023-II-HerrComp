{
 "cells": [
  {
   "cell_type": "markdown",
   "id": "6bdb43a8-bbf2-4f7d-9ad4-c42fdd92de00",
   "metadata": {},
   "source": [
    "Before you turn this problem in, make sure everything runs as expected. First, **restart the kernel** (in the menubar, select Kernel$\\rightarrow$Restart) and then **run all cells** (in the menubar, select Cell$\\rightarrow$Run All).\n",
    "\n",
    "Make sure you fill in any place that says `YOUR CODE HERE` or \"YOUR ANSWER HERE\", as well as your name and collaborators below:"
   ]
  },
  {
   "cell_type": "code",
   "execution_count": null,
   "id": "cba1c46c-bbc6-446d-b610-8095fc85ffb0",
   "metadata": {},
   "outputs": [],
   "source": [
    "NAME = \"\"\n",
    "COLLABORATORS = \"NONE\""
   ]
  },
  {
   "cell_type": "code",
   "execution_count": null,
   "id": "890e7b4f-bfc2-4bf3-8767-4999d52c80b6",
   "metadata": {},
   "outputs": [],
   "source": []
  },
  {
   "cell_type": "markdown",
   "id": "42d5829f-c42f-4fe1-b564-7fb56e0d826e",
   "metadata": {},
   "source": [
    "# Ordinary Differential Equations : Initial value problems\n",
    "\n",
    "This notebook shows simplified approaches to solve ordinary differential equations with given initial conditions.This is called an *Initial Value Problem*. \n",
    "\n",
    "In general, what we want to solve is the ordinary differential equation  of first-order of the form\n",
    "$$\\frac{dy}{dt} = f(t, y),$$\n",
    "where $y$ represents, for instance, the system state, and $f(y, t)$ is the function that describes the change in time and, in general, depends both on the current system state and the time.\n",
    "\n",
    "When you have a higher order ODE, you can introduce auxiliary derivatives to recover the one order formulation. If you an n-order differential equation, you will get a system like\n",
    "$$\\frac{d\\vec y}{dt} = \\vec f(t, \\vec y),$$\n",
    "\n",
    "As an example, let's start with the second Newton equation for a body in free falling under a linear damping viscous force,\n",
    "$$m a = m \\frac{dv}{dt} = m \\frac{d^2 z}{dt^2} = -mg - mbv$$.\n",
    "In this case, we can use the first position time derivative (the velocity) as an auxiliary function, and then we get $\\vec y = [z, v]$ and $d\\vec y /dt = \\vec f(t, \\vec y) = [v, -g - bv]$ (actually this can also be written as a matrix equation and its eigen-values will have important meaning.  \n",
    "\n",
    "**Exercise:** Transform the following third order equation into a system of three linear equations \n",
    "$$\\frac{d^3x}{dt^3} = -2\\sin x + x \\frac{dx}{dt} + 4t$$"
   ]
  },
  {
   "cell_type": "markdown",
   "id": "8038d1cc-daae-47d4-82f8-0692b31db783",
   "metadata": {
    "deletable": false,
    "nbgrader": {
     "cell_type": "markdown",
     "checksum": "9aa438af40e2aa51f8554341ac8c9376",
     "grade": true,
     "grade_id": "cell-cf5e4a4d384d7d56",
     "locked": false,
     "points": 0,
     "schema_version": 3,
     "solution": true,
     "task": false
    },
    "tags": []
   },
   "source": [
    "YOUR ANSWER HERE"
   ]
  },
  {
   "cell_type": "markdown",
   "id": "871db654-d575-4879-90e7-aab28a4a3cc3",
   "metadata": {},
   "source": [
    "## Euler method\n",
    "Let's take the general equation and check that the derivative can be approximated as\n",
    "$$\\frac{dy}{dt} = f(t, y) \\simeq \\frac{y(t+\\delta t) - y(t)}{\\delta t} +O(\\delta t),$$\n",
    "for a sufficiently small time step $\\delta t$ . If you discretize the time in steps of size $\\delta t$, you can identify the time $t + \\delta t$ as the next time after time $t$, so you can write the next value for $y$ in terms of the current one as\n",
    "$$y(t+\\delta t) = y(t) + \\delta t f(y, t) +O(\\delta t^2) .$$\n",
    "This is the so-called **Euler Method**, and you can interpret it as constructing a straight line between the two points. See the next figure, from Chapra. The local error is of order $\\delta t^2$ because we are ignoring first that term in the series expansion of $y(t+\\delta t)$.  \n",
    "\n",
    "Basically you need to know the initial position and then you can iterate to obtain later values:\n",
    "\n",
    "* iter = 0, time = $0$, $y(0)$\n",
    "* iter = 1, time = $\\delta t$, $y(\\delta t) = y(0) + \\delta t f(y(0), 0)$\n",
    "* iter = 2, time = $2\\delta t$, $y(2\\delta t) = y(\\delta t) + \\delta t f(y(\\delta t), \\delta t)$\n",
    "* iter = 3, time = $3\\delta t$, $y(3\\delta t) = y(2\\delta t) + \\delta t f(y(2\\delta t), 2\\delta t)$\n",
    "* ...\n",
    " \n",
    "\n",
    "<img src=\"fig/euler-01.png\" width=500>\n",
    "\n",
    "\n",
    "**Although the Euler method is simple to implement, its error is large and sometimes it might be unstable**."
   ]
  },
  {
   "cell_type": "markdown",
   "id": "6f598cef-ea22-47dd-871a-db678f77c1ad",
   "metadata": {},
   "source": [
    "## Example  comparing the Euler method with the scipy function\n",
    "Following Chapra, let's solve the following ordinary differential equation by means of the Euler method,\n",
    "$$\\frac{dy}{dt} = 4e^{0.8t} - 0.5y,$$\n",
    "whose solution is \n",
    "$$y = \\frac{4}{1.3}(e^{0.8t} - e^{-0.5t}) + 2e^{-0.5t}.$$\n",
    "Let's solve it from $t =0$ to $t=4$ in steps $\\delta t = 1$. The initial condition is $y=2$ when $t=0$. Your task is to  solve the differential equation and to compare with the theoretical solution. \n",
    "\n",
    "To do so, please first use the `solve_ivp` function from scipy. You will also need to define a function, called `fderiv`, that returns the derivate of the function and receives the time and the current value of $y$. Once those functions are defined defined, use them to plot the numerical and the theoretical solution. \n",
    "\n",
    "The official docs for the modern method to use from scipy to solve a system of ordinary differential equations is found at https://docs.scipy.org/doc/scipy/reference/generated/scipy.integrate.solve_ivp.html#scipy.integrate.solve_ivp  and https://docs.scipy.org/doc/scipy/reference/integrate.html. Please go read it and then come back to try it."
   ]
  },
  {
   "cell_type": "code",
   "execution_count": null,
   "id": "1131e521-e415-4cd0-bddf-3b38afd07ed4",
   "metadata": {
    "ExecuteTime": {
     "end_time": "2021-10-30T01:00:06.066275Z",
     "start_time": "2021-10-30T01:00:05.736990Z"
    }
   },
   "outputs": [],
   "source": [
    "# Simple example for scipy.integrate.solve_ivp\n",
    "import numpy as np\n",
    "from scipy.integrate import solve_ivp\n",
    "\n",
    "def fderiv(t, y):\n",
    "    return 4*np.exp(0.8*t) - 0.5*y\n",
    "\n",
    "def ytheo(t):\n",
    "    return 4*(np.exp(0.8*t) - np.exp(-0.5*t))/1.3 + 2*np.exp(-0.5*t)\n",
    "\n",
    "def solve_system(T0, TF, Y0, DT):\n",
    "    # solve using scipy\n",
    "    sol = solve_ivp(fderiv, t_span=[T0, TF], y0=[Y0], t_eval=np.arange(T0, TF+DT, DT))\n",
    "    print(sol)\n",
    "    print(sol.t)\n",
    "    print(sol.y)\n",
    "\n",
    "    # solve using euler\n",
    "    t_euler = np.arange(T0, TF+DT, DT)\n",
    "    y_euler = np.zeros_like(t_euler)\n",
    "    y_euler[0] = Y0\n",
    "    for ii in range(0, len(y_euler)-1):\n",
    "        y_euler[ii+1] = y_euler[ii] + DT*fderiv(t_euler[ii], y_euler[ii])\n",
    "\n",
    "    # Plot \n",
    "    %matplotlib inline\n",
    "    import matplotlib.pyplot as plt\n",
    "    import seaborn as sns\n",
    "    sns.set()\n",
    "    sns.set_context(\"poster\")\n",
    "\n",
    "    fig, ax = plt.subplots()\n",
    "    ax.plot(sol.t, sol.y[0], '*', label=f\"Scipy ivp\")\n",
    "    #ax.plot(sol.t, sol.y[0], '-*', label=\"Scipy ivp, DT=1.0\")\n",
    "    # theoretical\n",
    "    t = np.linspace(T0, TF, 100)\n",
    "    ax.plot(t, ytheo(t), '-', label=\"Theoretical\")\n",
    "    # euler\n",
    "    ax.plot(t_euler, y_euler, '-s', label='Euler')\n",
    "\n",
    "    # activate legend\n",
    "    ax.legend()\n",
    "\n",
    "    # Print differences\n",
    "    print(f\"Diff Scipy: {ytheo(sol.t) - sol.y}\")\n",
    "    print(f\"Diff Euler: {ytheo(t_euler) - y_euler}\")\n",
    "\n",
    "solve_system(T0=0.0, TF=4.0, Y0=2.0, DT=0.5)"
   ]
  },
  {
   "cell_type": "markdown",
   "id": "1d71bbca-0eaa-4b2e-b4d7-f9c9b67ba573",
   "metadata": {},
   "source": [
    "## Exercise\n",
    "<img src=\"fig/problem-1.png\" width=700>"
   ]
  },
  {
   "cell_type": "code",
   "execution_count": null,
   "id": "81e16257-4451-49e4-be81-4e70c262c599",
   "metadata": {
    "ExecuteTime": {
     "end_time": "2021-10-30T01:10:52.457217Z",
     "start_time": "2021-10-30T01:10:52.190420Z"
    },
    "tags": []
   },
   "outputs": [],
   "source": [
    "%matplotlib inline\n",
    "import numpy as np\n",
    "from scipy.integrate import solve_ivp\n",
    "import matplotlib.pyplot as plt\n",
    "import seaborn as sns\n",
    "sns.set()\n",
    "sns.set_context(\"talk\")\n",
    "\n",
    "def fderiv(t, y):\n",
    "    return y*t**3  - 1.5*y\n",
    "\n",
    "def solve_system(T0, TF, Y0, DT):\n",
    "    # solve using scipy\n",
    "    sol = solve_ivp(fderiv, t_span=[T0, TF], y0=[Y0], t_eval=np.arange(T0, TF+DT, DT))\n",
    "\n",
    "    # Plot \n",
    "    fig, ax = plt.subplots()\n",
    "    ax.plot(sol.t, sol.y[0], '-*', label=f\"Scipy ivp, {DT=}\")\n",
    "    # activate legend\n",
    "    ax.legend()\n",
    "\n",
    "solve_system(T0=0.0, TF=2.0, Y0=1.0, DT=0.02)"
   ]
  },
  {
   "cell_type": "markdown",
   "id": "44be30fa-582d-4406-9723-6cabac63f0c2",
   "metadata": {},
   "source": [
    "## Exercise\n",
    "The logistic equation allows to simulate , in a simple manner, the dynamics of a given population that grows proportionally to its current amount $N$ but decreases also due to competition. Is written as \n",
    "$$\\frac{dN}{dt} = \\dot{N} = rN\\left(1 - \\frac{N}{K}\\right),$$\n",
    "first suggested by Verhulst in 1838. Here the parameter $r$ is related to the reproduction rate and $K$ to the competition or saturation. Solve the system for several $r$ and $K$ values. "
   ]
  },
  {
   "cell_type": "code",
   "execution_count": null,
   "id": "f7559892-fc9b-4e29-b826-b1f1d328ecfc",
   "metadata": {
    "deletable": false,
    "nbgrader": {
     "cell_type": "code",
     "checksum": "aaf3d6af370debe0478bda69aac0955f",
     "grade": false,
     "grade_id": "cell-46e2652071a34fa8",
     "locked": false,
     "schema_version": 3,
     "solution": true,
     "task": false
    },
    "tags": []
   },
   "outputs": [],
   "source": [
    "%matplotlib inline\n",
    "import numpy as np\n",
    "from scipy.integrate import solve_ivp\n",
    "import matplotlib.pyplot as plt\n",
    "import seaborn as sns\n",
    "sns.set()\n",
    "sns.set_context(\"talk\")\n",
    "\n",
    "def fderiv(t, y, r, k):\n",
    "    # YOUR CODE HERE\n",
    "    raise NotImplementedError()\n",
    "\n",
    "def solve_system(T0, TF, Y0, DT, r, k):\n",
    "    # YOUR CODE HERE\n",
    "    raise NotImplementedError()\n",
    "\n",
    "solve_system(T0=0.0, TF=2000.0, Y0=3.0, DT=0.2, r=0.01, k=10)\n",
    "solve_system(T0=0.0, TF=200.0, Y0=3.0, DT=0.2, r=0.1, k=10)\n",
    "solve_system(T0=0.0, TF=200.0, Y0=3.0, DT=0.2, r=1.1, k=10)\n",
    "solve_system(T0=0.0, TF=2000.0, Y0=3.0, DT=0.2, r=0.9, k=3)"
   ]
  },
  {
   "cell_type": "markdown",
   "id": "4bdef264-48b3-476c-846f-ef3c4d6cb400",
   "metadata": {
    "tags": []
   },
   "source": [
    "# Systems of Ordinary Differential Equations\n",
    "\n",
    "Previously we studied systems where there was only one interesting variable so the differential equation describe only changes on that variable. There are systems where the state is described by two or more variables. In this case, we have several differential equations, like the following (see the SIR model)\n",
    "$$\\frac{dx}{dt} = f_1(x, y, t)\\\\\n",
    "\\frac{dy}{dt} = f_2(x, y, t),$$\n",
    "where $x$ and $y$ are variables that describe the system state  and $f_1$ and $f_2$ are the functions describing their derivatives. To solve this system and improve the notation we can think of $x$ and $y$ as the components of a state vector called, for example, $\\vec s = [x, y]$. Also, the function $f_1$ and $f_2$ can be seen as the components of a vector, let's call it $\\vec f = [f_1, f_2]$. By using this , we can rewrite the system as\n",
    "$$\\frac{d\\vec s}{dt} = \\vec f(t, \\vec s).$$\n",
    "Solving this system is similar to what we did with the Euler, only that now everything is vectorial, but the same basic equation applies:\n",
    "$$\\vec s_{i+1} = \\vec s_i + \\vec f \\delta t.$$\n",
    "Therefore, you need to define a function to model $\\vec f$ that receives the state vector $\\vec s$, the current time, and returns the derivatives. "
   ]
  },
  {
   "cell_type": "code",
   "execution_count": null,
   "id": "868bc906-9e68-435d-bc41-eb4377f61f3b",
   "metadata": {
    "ExecuteTime": {
     "end_time": "2019-09-06T22:56:18.066557Z",
     "start_time": "2019-09-06T22:56:17.695100Z"
    }
   },
   "outputs": [],
   "source": [
    "# example for fderiv, adapt to your own problem. It now returns a vector.\n",
    "\n",
    "# You can visualize this code in pythontutor, with python 3.6 with anaconda\n",
    "\n",
    "import numpy as np\n",
    "def fderiv(t, y):\n",
    "    return np.array([-y[0]+2*y[1], y[0]])\n",
    "    \n",
    "x, y = fderiv(0.3, [2, 4])\n",
    "print(x)\n",
    "print(y)"
   ]
  },
  {
   "cell_type": "markdown",
   "id": "53544fb7-c7f4-4f53-be9f-d58c729353c2",
   "metadata": {},
   "source": [
    "## Exercise (From Chapra): Projectile, adding a stopping condition\n",
    "(22.6) Suppose that a projectile is launched upward from the earth's surface. Assume that the only force acting on the object is the downward force of gravity. Under these conditions, a force balance can be used to derive\n",
    "$$\n",
    "\\frac{dv}{dt} = -g(0)\\frac{R^2}{(R+x)^2},\n",
    "$$\n",
    "where $v =$ upward velocity (m/s), $t =$ time (s), $x =$ altitude (m) measured upward from the earth’s surface, $g(0) =$ the gravitational acceleration at the earth’s surface ($\\simeq 9.81$ m/s$^2$), and $R =$ the earth's radius ($\\simeq 6.37\\times 10^6$ m). Recognizing that $dx/dt = v$, use `scipy` method to determine the maximum height that would be obtained if $v(t = 0) = 1500$ m/s."
   ]
  },
  {
   "cell_type": "code",
   "execution_count": null,
   "id": "274a168f-9118-49bc-91f8-adf24b75cd89",
   "metadata": {
    "ExecuteTime": {
     "end_time": "2020-09-26T17:37:27.448892Z",
     "start_time": "2020-09-26T17:37:27.427334Z"
    }
   },
   "outputs": [],
   "source": [
    "%matplotlib inline\n",
    "import matplotlib.pyplot as plt\n",
    "from scipy.integrate import solve_ivp\n",
    "import seaborn as sns\n",
    "sns.set()\n",
    "sns.set_context(\"paper\")\n",
    "\n",
    "def fderiv(t, y, G, R):\n",
    "    x, v = y\n",
    "    return np.array([v, -G*R**2/(R+x)**2])\n",
    "    #return np.array([y[1], -G*R**2/(R+y[0])**2])\n",
    "\n",
    "def solve_system(T0, TF, Y0, DT, G, R):\n",
    "    T = np.arange(T0, TF+DT, DT)\n",
    "    sol = solve_ivp(fderiv, t_span=[T.min(), T.max()], t_eval=T, y0=Y0, args=(G, R))\n",
    "    fig, ax = plt.subplots(1, 2)\n",
    "    ax[0].plot(sol.t, sol.y[0], label=r\"$y(t)$\")\n",
    "    ax[1].plot(sol.t, sol.y[1], label=r\"$v_y(t)$\")\n",
    "    ax[0].set_xlabel(r\"$t$ [s]\")\n",
    "    ax[0].set_ylabel(r\"$y(t)$ [m]\")\n",
    "    ax[0].legend()    \n",
    "    return sol.t[-1], np.max(sol.y[0])\n",
    "\n",
    "solve_system(T0=0.0, TF=350, Y0=[0.0, 1500], DT=0.1, G=9.81, R=6.37e6)\n"
   ]
  },
  {
   "cell_type": "markdown",
   "id": "568da671-1ebb-42c7-b87a-dac9be4b9c4b",
   "metadata": {},
   "source": [
    "Let's add an event to stop the time evolution"
   ]
  },
  {
   "cell_type": "code",
   "execution_count": null,
   "id": "3871ac41-ae87-4ca0-acd0-c1356d097a92",
   "metadata": {
    "ExecuteTime": {
     "end_time": "2020-09-26T17:39:24.320969Z",
     "start_time": "2020-09-26T17:39:23.825894Z"
    }
   },
   "outputs": [],
   "source": [
    "%matplotlib inline\n",
    "import matplotlib.pyplot as plt\n",
    "from scipy.integrate import solve_ivp\n",
    "import seaborn as sns\n",
    "sns.set()\n",
    "sns.set_context(\"paper\")\n",
    "\n",
    "def fderiv(t, y, G, R):\n",
    "    x, v = y\n",
    "    return np.array([v, -G*R**2/(R+x)**2])\n",
    "    #return np.array([y[1], -G*R**2/(R+y[0])**2])\n",
    "\n",
    "# With event\n",
    "#def hitground(t, y) : \n",
    "def hitground(t, y, G, R) : \n",
    "    return y[0]\n",
    "hitground.terminal = True # stops if hitground == 0\n",
    "hitground.direction = -1 # only when going down\n",
    "\n",
    "def solve_system(T0, TF, Y0, DT, G, R, event=None):\n",
    "    T = np.arange(T0, TF+DT, DT)\n",
    "    sol = solve_ivp(fderiv, t_span=[T.min(), T.max()], t_eval=T, y0=Y0, args=(G, R), events=hitground)\n",
    "    fig, ax = plt.subplots(1, 2)\n",
    "    ax[0].plot(sol.t, sol.y[0], label=r\"$y(t)$\")\n",
    "    ax[1].plot(sol.t, sol.y[1], label=r\"$v_y(t)$\")\n",
    "    ax[0].set_xlabel(r\"$t$ [s]\")\n",
    "    ax[0].set_ylabel(r\"$y(t)$ [m]\")\n",
    "    ax[0].legend()    \n",
    "    return sol.t[-1], np.max(sol.y[0])\n",
    "\n",
    "solve_system(T0=0.0, TF=350, Y0=[0.0, 1500], DT=0.1, G=9.81, R=6.37e6, event=hitground)"
   ]
  },
  {
   "cell_type": "markdown",
   "id": "a80d2aea-ccea-4be0-b2ea-929711aa4597",
   "metadata": {},
   "source": [
    "## Exercise\n",
    "Compute the total flying time and the maximum height (normalized by $R$) as a function of $G \\in [0.1g, 0.2g, \\ldots, 10g ]$, with $g = 9.81$"
   ]
  },
  {
   "cell_type": "code",
   "execution_count": null,
   "id": "6b35c253-8e94-41ba-b5a6-16cdc667b23e",
   "metadata": {
    "deletable": false,
    "nbgrader": {
     "cell_type": "code",
     "checksum": "94bdf32dc357084cb85f1a01ab2afc99",
     "grade": false,
     "grade_id": "cell-b0212749abe84a28",
     "locked": false,
     "schema_version": 3,
     "solution": true,
     "task": false
    },
    "tags": []
   },
   "outputs": [],
   "source": [
    "# YOUR CODE HERE\n",
    "raise NotImplementedError()"
   ]
  },
  {
   "cell_type": "markdown",
   "id": "6bd61d50-d151-44cc-a54b-b1994f8cfeec",
   "metadata": {
    "tags": []
   },
   "source": [
    "## Exercise\n",
    "A parachutist is under free-fall and under linear viscous damping modeled as $$f_v = -m b v,$$ where $m$ is the mass, $b$ is the damping constant, and $v$ is the vertical velocity. How does $b$ affects the final equilibrium velocity? The final equilibrium velocity happens when there is no acceleration, that is, when $ma = 0 = -mg -mbv_f$, so $$v_f = -g/b.$$ Show that numerically as way to calibrate the method. Create a function that receives the value of $b$ and returns the finla velocity. Notice that you will need to simulate the system for a very long time (or, much better, use an event as we will show later). Plot $v_f$ versus $b$. Use $M = 60.7$ kg and $G = 9.81$ m/s$^2$. "
   ]
  },
  {
   "cell_type": "code",
   "execution_count": null,
   "id": "5a8cfa5f-8af6-4d47-90d9-8f6a442da046",
   "metadata": {
    "deletable": false,
    "nbgrader": {
     "cell_type": "code",
     "checksum": "72702ee61cf59a459c440df8fdd42bcf",
     "grade": false,
     "grade_id": "cell-99379f4c8b320893",
     "locked": false,
     "schema_version": 3,
     "solution": true,
     "task": false
    },
    "tags": []
   },
   "outputs": [],
   "source": [
    "%matplotlib inline\n",
    "import numpy as np\n",
    "from scipy.integrate import solve_ivp\n",
    "import matplotlib.pyplot as plt\n",
    "import seaborn as sns\n",
    "sns.set()\n",
    "sns.set_context(\"talk\")\n",
    "\n",
    "def fderiv(t, y, m, b, g):\n",
    "    # YOUR CODE HERE\n",
    "    raise NotImplementedError()\n",
    "\n",
    "\n",
    "def final_vel(m, b, g):\n",
    "    # YOUR CODE HERE\n",
    "    raise NotImplementedError()\n",
    "final_vel = np.vectorize(final_vel)\n",
    "\n",
    "def solve_plot():\n",
    "# YOUR CODE HERE\n",
    "raise NotImplementedError()\n",
    "    \n",
    "\n",
    "solve_plot()\n",
    "# TODO: Decouple plot and simulation\n",
    "# TODO: Normalize the system and the plot"
   ]
  },
  {
   "cell_type": "markdown",
   "id": "337171bc-c377-4ddf-8306-e589787edaa2",
   "metadata": {
    "tags": []
   },
   "source": [
    "# Phase plane\n",
    "The phase plane allows to study the solution of a differential equation from a geometric point of view. It basically is the plot of the derivative of a function and the function itself, that is, plotting $\\dot x $ versus $x$. You have two options: \n",
    "1. Solve the systems and plot the data.\n",
    "2. Use a geometric point of view where you focus on the derivatives and no solution is computed."
   ]
  },
  {
   "cell_type": "markdown",
   "id": "11e4ee85-f19d-46f2-bc7a-77e75471a37c",
   "metadata": {},
   "source": [
    "## Solving the system"
   ]
  },
  {
   "cell_type": "markdown",
   "id": "7fafc7bb-b7ac-4f39-9c90-11d94b844edc",
   "metadata": {},
   "source": [
    "### Predator prey model\n",
    "The Lokta-Volterra equation is a non-linear model for the interaction between a population of preys and predators. The simplest version is as follows:\n",
    "$$\n",
    "\\frac{dx}{dt} = ax - bxy,\n",
    "$$\n",
    "$$\n",
    "\\frac{dy}{dt} = -cy + dxy,\n",
    "$$\n",
    "where $x$ and $y$ are the number of prey and predators, respectively, $a$ the prey growth rate, $c$ the predator death rate and $b$ and $d$ characterizes the effect of the interaction.\n",
    "\n",
    "Solve the system for the following parameters and plot the solution and also plot $y$ as a function of $x$ (this is called the phase plane, more on this later): $a = 1.2, b  = 0.6, c = 0.8, d = 0.3$. Take the initial conditions as $x(0) = 2$ and $y(0) = 1$, integrate from $t= 0$ to $50$, with $\\delta t = 0.0625$. "
   ]
  },
  {
   "cell_type": "code",
   "execution_count": null,
   "id": "514aff23-ab30-4889-9c79-35d79472eb89",
   "metadata": {
    "ExecuteTime": {
     "end_time": "2020-09-26T17:56:29.840602Z",
     "start_time": "2020-09-26T17:56:28.947790Z"
    }
   },
   "outputs": [],
   "source": [
    "from scipy.integrate import solve_ivp\n",
    "import numpy as np\n",
    "\n",
    "\n",
    "# Global constants could be removed using a multiarg function\n",
    "A=1.2\n",
    "B=0.6\n",
    "C=0.8\n",
    "D=0.3\n",
    "\n",
    "X0=2\n",
    "Y0=1\n",
    "T0=0\n",
    "TF=50\n",
    "DT=0.0625\n",
    "\n",
    "def fderiv(t, y): \n",
    "    return np.array([A*y[0] - B*y[0]*y[1], -C*y[1] + D*y[0]*y[1]])\n",
    "\n",
    "sol = solve_ivp(fderiv, t_span=[T0, TF], t_eval=np.arange(T0, TF+DT, DT), y0=[X0, Y0])\n",
    "\n",
    "%matplotlib inline\n",
    "import matplotlib.pyplot as plt\n",
    "import seaborn as sns\n",
    "sns.set()\n",
    "sns.set_context(\"poster\")\n",
    "\n",
    "fig, ax = plt.subplots(1,2, figsize=(14, 6))\n",
    "ax[0].plot(sol.t, sol.y[0], label=r\"Prey\")\n",
    "ax[0].plot(sol.t, sol.y[1], label=r\"Predator\")\n",
    "ax[0].set_xlabel(r\"$t$[s]\")\n",
    "ax[0].set_ylabel(r\"$x(t), y(t)$\")\n",
    "ax[0].legend()\n",
    "ax[1].plot(sol.y[0], sol.y[1])\n",
    "ax[1].set_xlabel(r\"$x$\")\n",
    "ax[1].set_ylabel(r\"$y$\")\n",
    "\n",
    "# Can you compoute the critical points?"
   ]
  },
  {
   "cell_type": "markdown",
   "id": "7d311d57-3eaf-4fb7-8801-1564c7c2d1f7",
   "metadata": {},
   "source": [
    "### Example : Lorenz model\n",
    "A famous model showing chaotic behavior is the climate model proposed by Lorenz, \n",
    "$$\n",
    "\\frac{dx}{dt} = -a x + a y,\n",
    "$$\n",
    "$$\n",
    "\\frac{dy}{dt} = rx -y -xz,\n",
    "$$\n",
    "$$\n",
    "\\frac{dz}{dt} = -bz + xy.\n",
    "$$\n",
    "Solve the model for two very close initial conditions. And compare. Do you note something special? Also, for one of those initial conditions, plot the phase portrait in 2D and 3D. Use $a=10, b=8/3, r=28, x(0) = y(0) = z(0) = 5$, integrate from $t = 0$ to 20, and use $\\delta t = 0.03125$. "
   ]
  },
  {
   "cell_type": "code",
   "execution_count": null,
   "id": "a11bd4b4-1125-4a1e-8150-2be8aa5b1317",
   "metadata": {
    "ExecuteTime": {
     "end_time": "2020-09-26T18:01:14.652768Z",
     "start_time": "2020-09-26T18:01:13.484474Z"
    }
   },
   "outputs": [],
   "source": [
    "# Lorenz model\n",
    "from scipy.integrate import solve_ivp\n",
    "import numpy as np\n",
    "\n",
    "A=10.0\n",
    "B=8.0/3.0\n",
    "R=28.0\n",
    "\n",
    "X0=5\n",
    "Y0=5\n",
    "Z0=5\n",
    "T0=0\n",
    "TF=20\n",
    "DT=0.03125\n",
    "\n",
    "def fderiv(t, y): \n",
    "    return np.array([-A*y[0] + A*y[1], \n",
    "                     R*y[0] -y[1] - y[0]*y[2], \n",
    "                     -B*y[2] + y[0]*y[1]])\n",
    "\n",
    "sol1 = solve_ivp(fderiv, t_span=[T0, TF], \n",
    "                t_eval=np.arange(T0, TF+DT, DT), \n",
    "                y0=[X0, Y0, Z0])\n",
    "sol2 = solve_ivp(fderiv, t_span=[T0, TF], \n",
    "                t_eval=np.arange(T0, TF+DT, DT), \n",
    "                y0=[X0+0.0001, Y0, Z0])\n",
    "\n",
    "%matplotlib inline\n",
    "import matplotlib.pyplot as plt\n",
    "import seaborn as sns\n",
    "sns.set()\n",
    "sns.set_context(\"poster\")\n",
    "\n",
    "fig, ax = plt.subplots(2,2, figsize=(12, 10))\n",
    "ax[0, 0].plot(sol1.t, sol1.y[0])\n",
    "ax[0, 0].plot(sol2.t, sol2.y[0])\n",
    "ax[0, 0].set_xlabel(r\"$t$[s]\")\n",
    "ax[0, 0].set_ylabel(r\"$x(t)$\")\n",
    "ax[0, 1].plot(sol1.y[0], sol1.y[1])\n",
    "ax[0, 1].set_xlabel(r\"$y$\")\n",
    "ax[0, 1].set_ylabel(r\"$x$\")\n",
    "ax[1, 0].plot(sol1.y[0], sol1.y[2])\n",
    "ax[1, 0].set_xlabel(r\"$z$\")\n",
    "ax[1, 0].set_ylabel(r\"$x$\")\n",
    "ax[1, 1].plot(sol1.y[1], sol1.y[2])\n",
    "ax[1, 1].set_xlabel(r\"$z$\")\n",
    "ax[1, 1].set_ylabel(r\"$y$\")\n",
    "\n",
    "# See : https://www.youtube.com/watch?v=aAJkLh76QnM&t=2s"
   ]
  },
  {
   "cell_type": "code",
   "execution_count": null,
   "id": "0a85b58c-cbdc-4137-8737-7d59f3a5d1c2",
   "metadata": {
    "ExecuteTime": {
     "end_time": "2020-09-26T18:03:51.641211Z",
     "start_time": "2020-09-26T18:03:51.367017Z"
    }
   },
   "outputs": [],
   "source": [
    "from mpl_toolkits.mplot3d import Axes3D\n",
    "%matplotlib inline\n",
    "fig = plt.figure()\n",
    "ax = fig.add_subplot(111, projection='3d')\n",
    "ax.plot(sol1.y[0], sol1.y[1], sol1.y[2])\n"
   ]
  },
  {
   "cell_type": "code",
   "execution_count": null,
   "id": "c7559041-e52f-4888-89f3-70cb2c47ded7",
   "metadata": {
    "ExecuteTime": {
     "end_time": "2020-09-26T18:07:36.718941Z",
     "start_time": "2020-09-26T18:07:11.302107Z"
    }
   },
   "outputs": [],
   "source": [
    "# Run this to install ipyvolume\n",
    "!conda install -y -c conda-forge ipyvolume\n",
    "# For collab\n",
    "#!pip install ipyvolume\n",
    "#from google.colab import output\n",
    "#output.enable_custom_widget_manager()"
   ]
  },
  {
   "cell_type": "code",
   "execution_count": null,
   "id": "e0f10705-d3fe-4603-a84f-7596b49a6a9f",
   "metadata": {
    "ExecuteTime": {
     "end_time": "2020-09-26T18:04:03.433092Z",
     "start_time": "2020-09-26T18:04:02.435554Z"
    }
   },
   "outputs": [],
   "source": [
    "# Check https://github.com/matplotlib/ipympl/issues/460 (jupyter lab build) for errors\n",
    "#%matplotlib inline\n",
    "import ipyvolume as ipv\n",
    "import numpy as np\n",
    "x, y, z = sol1.y[0], sol1.y[1], sol1.y[2]\n",
    "ipv.quickscatter(x, y, z, size=1, marker=\"sphere\")\n",
    "#ipv.plot(x, y, z, size=0.05, marker=\"sphere\")\n",
    "#ipv.show()"
   ]
  },
  {
   "cell_type": "markdown",
   "id": "8259dbfb-4260-4b10-af1b-e4d10b54897f",
   "metadata": {},
   "source": [
    "## Geometric view\n",
    "In the geometric approach you are **actually NOT solving the system**. You are basically choosing many possible initial conditions and checking the slope (derivatives) at each point. This is very useful to understand the global dynamics of the system. Let's check the following example for the predator prey model."
   ]
  },
  {
   "cell_type": "code",
   "execution_count": null,
   "id": "30ecf0b4-43b2-4b33-858a-6e5f0774c536",
   "metadata": {
    "ExecuteTime": {
     "end_time": "2019-09-06T22:56:27.330070Z",
     "start_time": "2019-09-06T22:56:25.150034Z"
    }
   },
   "outputs": [],
   "source": [
    "%matplotlib inline\n",
    "# global imports\n",
    "import matplotlib\n",
    "print(matplotlib.__version__)\n",
    "import numpy as np\n",
    "import matplotlib.pyplot as plt\n",
    "import seaborn as sns\n",
    "sns.set()\n",
    "sns.set_context('poster')\n",
    "\n",
    "A=1.2\n",
    "B=0.6 # 0.6\n",
    "C=0.8\n",
    "D=0.3 # 0.3\n",
    "\n",
    "# function to return the derivatives\n",
    "def derivatives(y): \n",
    "    return np.array([A*y[0] - B*y[0]*y[1], -C*y[1] + D*y[0]*y[1]])\n",
    "\n",
    "N = 60 # Number of initial conditions\n",
    "XMIN = -100.0; XMAX = 100.0 # position\n",
    "YMIN = -100.0; YMAX = 100.0 # velocity\n",
    "X, Y = np.meshgrid(np.linspace(XMIN, XMAX, N), np.linspace(YMIN, YMAX, N))\n",
    "DX, DY = derivatives([X, Y])\n",
    "\n",
    "M = 200.0\n",
    "E = M*9.81*X + 0.5*M*Y*Y\n",
    "\n",
    "fig = plt.figure(figsize=(10,8))\n",
    "# use this for matplotlib < 3.6.0\n",
    "#plt.streamplot(X, Y, DX, DY, color=E, density=[1.5, 1.5], linewidth=2, cmap='plasma')\n",
    "plt.streamplot(X, Y, DX, DY, color=E, density=[1.5, 1.5], linewidth=2, cmap='plasma', broken_streamlines=False)\n",
    "plt.colorbar()"
   ]
  },
  {
   "cell_type": "code",
   "execution_count": null,
   "id": "8bf34587-c54d-4e7a-974a-22c46341ac67",
   "metadata": {
    "ExecuteTime": {
     "end_time": "2019-09-06T22:56:29.483448Z",
     "start_time": "2019-09-06T22:56:27.332214Z"
    }
   },
   "outputs": [],
   "source": [
    "%matplotlib inline\n",
    "# global imports\n",
    "import numpy as np\n",
    "import matplotlib.pyplot as plt\n",
    "\n",
    "fig, ax = plt.subplots(1, 1, figsize=(10,10))\n",
    "# function to return the derivatives\n",
    "def derivatives(state, A=np.eye(2), t=0): \n",
    "    xd = state[0] + state[1]\n",
    "    yd = 4*state[0] - 2*state[1]\n",
    "    return [xd, yd]\n",
    "\n",
    "N = 20\n",
    "MIN = -3.1\n",
    "MAX = 3.1\n",
    "X, Y = np.meshgrid(np.linspace(MIN, MAX, N), np.linspace(MIN, MAX, N))\n",
    "E = X*X + Y*Y\n",
    "\n",
    "A = np.array([[1., 1.], [4., -2.]])\n",
    "DX, DY = derivatives([X, Y], A)\n",
    "ax.streamplot(X, Y, DX, DY, color=E, cmap='viridis', density=1.8, broken_streamlines=False)\n",
    "x = np.linspace(MIN, MAX, 50)\n",
    "ax.plot(x, -0.9701425*x/0.24253563, lw=3, c='red')\n",
    "ax.plot(x, x, lw=3, c='red')\n",
    "ax.plot(x, -0.9701425*x/0.24253563, lw=3, c='red')\n",
    "ax.set_xlim(MIN, MAX)\n",
    "ax.set_ylim(MIN, MAX)"
   ]
  },
  {
   "cell_type": "markdown",
   "id": "7d2418f9-cc07-411c-8559-2e583d035e00",
   "metadata": {},
   "source": [
    "# Exercises"
   ]
  },
  {
   "cell_type": "markdown",
   "id": "93d6972c-c011-4134-916e-3e07dd499047",
   "metadata": {},
   "source": [
    "## Exercise\n",
    "For the proyectile example, add damping of the form $-b\\vec v$, where $b$ denotes the damping strength. Compute the maximum height as a function of $b$ for   $b = [0.01, 0.05, 0.1, 0.5, 1.0, 5.0, 10.0, 50.0]$, with fixed $v_0 = 1237$. Plot the results. What can you conclude?\n"
   ]
  },
  {
   "cell_type": "code",
   "execution_count": null,
   "id": "845063c2-e95f-4d15-a5ba-7db5f6999c66",
   "metadata": {},
   "outputs": [],
   "source": []
  },
  {
   "cell_type": "markdown",
   "id": "35aa0255-35e5-43c8-a3d2-c4a61951c325",
   "metadata": {},
   "source": [
    "## kiusalaas: Circuits\n",
    "Solve this and also simulate the circuit at www.falstad.com to compare.\n",
    "<img src=\"fig/kiusalaas-04.png\">"
   ]
  },
  {
   "cell_type": "code",
   "execution_count": null,
   "id": "7a5205b3-2160-44a0-8f3d-8797b320e37c",
   "metadata": {
    "ExecuteTime": {
     "end_time": "2019-09-07T01:22:35.915009Z",
     "start_time": "2019-09-07T01:22:33.060378Z"
    },
    "deletable": false,
    "nbgrader": {
     "cell_type": "code",
     "checksum": "0790eb46ce54852e2f5470a8560685eb",
     "grade": false,
     "grade_id": "cell-aab9b82ea2869e71",
     "locked": false,
     "schema_version": 3,
     "solution": true,
     "task": false
    },
    "tags": []
   },
   "outputs": [],
   "source": [
    "%matplotlib inline\n",
    "# global imports\n",
    "import numpy as np\n",
    "import matplotlib.pyplot as plt\n",
    "import seaborn as sns\n",
    "sns.set()\n",
    "sns.set_context('poster')\n",
    "\n",
    "# global parameters\n",
    "MIU = 1.01 # angular frequency\n",
    "\n",
    "# function to return the derivatives\n",
    "def derivatives(state): \n",
    "    \"\"\"\n",
    "    This function returns the derivatives of the state vector\n",
    "    state : a vector with the current values of the state variables\n",
    "    t : time, needed for the odeint solver\n",
    "    \"\"\"\n",
    "    # YOUR CODE HERE\n",
    "    raise NotImplementedError()\n",
    "\n",
    "N = 30\n",
    "MIN = -4.0\n",
    "MAX = 4.0\n",
    "X, Y = np.meshgrid(np.linspace(MIN, MAX, N), np.linspace(MIN, MAX, N))\n",
    "DX, DY = derivatives([X, Y])\n",
    "E = 0.5*X*X + 0.5*Y*Y\n",
    "\n",
    "fig = plt.figure(figsize=(10,8))\n",
    "plt.streamplot(X, Y, DX, DY, color=E, density=[2.5, 2.5], linewidth=2, cmap='viridis', broken_streamlines=False)\n",
    "xdata=np.linspace(-4, 4, 100)\n",
    "plt.ylim([-4, 4])\n",
    "plt.colorbar()"
   ]
  },
  {
   "cell_type": "code",
   "execution_count": null,
   "id": "6b6f4655-84cb-4848-8b48-8219a19bb6db",
   "metadata": {},
   "outputs": [],
   "source": []
  },
  {
   "cell_type": "markdown",
   "id": "17d33519-7ef1-4888-ae30-05bd7216c121",
   "metadata": {},
   "source": [
    "## Phase portrait\n",
    "<img src=\"fig/phase-portrait-02.png\">"
   ]
  },
  {
   "cell_type": "code",
   "execution_count": null,
   "id": "92051b18-7090-4369-b987-509fd39d08bc",
   "metadata": {},
   "outputs": [],
   "source": []
  },
  {
   "cell_type": "markdown",
   "id": "0933dbdb-306b-4115-8630-893aeda0f86d",
   "metadata": {},
   "source": [
    "## kiusalaas: Real Projectiles\n",
    "<img src=\"fig/kiusalaas-03.png\">"
   ]
  },
  {
   "cell_type": "code",
   "execution_count": null,
   "id": "e8d95f32-41fb-455b-91d6-4a37a44924f6",
   "metadata": {
    "ExecuteTime": {
     "end_time": "2019-09-07T01:47:01.266655Z",
     "start_time": "2019-09-07T01:47:00.460560Z"
    },
    "deletable": false,
    "nbgrader": {
     "cell_type": "code",
     "checksum": "1e4c5cba76fe268027a0862cf1961643",
     "grade": false,
     "grade_id": "cell-3834b978b38b0a90",
     "locked": false,
     "schema_version": 3,
     "solution": true,
     "task": false
    },
    "tags": []
   },
   "outputs": [],
   "source": [
    "from scipy.integrate import solve_ivp\n",
    "import numpy as np\n",
    "\n",
    "# Parameters\n",
    "CD = 0.03\n",
    "M = 0.25\n",
    "V0 = 50\n",
    "THETA = 30*np.pi/180\n",
    "G = 9.80665\n",
    "# Time\n",
    "T0 = 0\n",
    "TF = 20.2\n",
    "DT = TF/400\n",
    "T  = np.arange(T0, TF+DT, DT)\n",
    "# Initial conditions\n",
    "X0=0.0; VX0 = V0*np.cos(THETA)\n",
    "Y0=0.0; VY0 = V0*np.sin(THETA)\n",
    "\n",
    "def hitground(t, y): return y[2]\n",
    "hitground.terminal = True\n",
    "hitground.direction = -1\n",
    "\n",
    "# y has four components: x, vx, y, vy\n",
    "def fderiv(t, y): \n",
    "    # YOUR CODE HERE\n",
    "    raise NotImplementedError()\n",
    "\n",
    "sol = solve_ivp(fderiv, t_span=[T.min(), T.max()], t_eval=T, y0=[X0, VX0, Y0, VY0],\n",
    "               events=hitground)\n",
    "%matplotlib inline\n",
    "import matplotlib.pyplot as plt\n",
    "import seaborn as sns\n",
    "sns.set()\n",
    "sns.set_context(\"poster\")\n",
    "\n",
    "fig, ax = plt.subplots(1,2, figsize=(14, 6))\n",
    "ax[0].plot(sol.t, sol.y[0], label=r\"x\")\n",
    "ax[0].plot(sol.t, sol.y[2], label=r\"y\")\n",
    "ax[0].set_xlabel(r\"$t$[s]\")\n",
    "ax[0].set_ylabel(r\"$x(t), y(t)$\")\n",
    "ax[0].legend()\n",
    "ax[1].plot(sol.y[0], sol.y[2])\n",
    "ax[1].set_xlabel(r\"$x$\")\n",
    "ax[1].set_ylabel(r\"$y$\")\n",
    "\n",
    "print(f\"CD = {CD}\")\n",
    "print(f\"range = {sol.y[0][-1]}\")\n",
    "print(f\"time of flight = {sol.t[-1]}\")\n",
    "print(f\"max height = {sol.y[2].max()}\")"
   ]
  },
  {
   "cell_type": "code",
   "execution_count": null,
   "id": "174dc5e5-7c72-47af-a234-d42b2ce896fc",
   "metadata": {},
   "outputs": [],
   "source": []
  },
  {
   "cell_type": "markdown",
   "id": "2d8dbc65-f31c-4b5e-90eb-274e8df6c2e3",
   "metadata": {},
   "source": [
    "## kiusalaas : Bouyancy\n",
    "<img src=\"fig/kiusalaas-02-A.png\">\n",
    "<img src=\"fig/kiusalaas-02-B.png\">\n"
   ]
  },
  {
   "cell_type": "code",
   "execution_count": null,
   "id": "7d0a7613-9610-4aec-8d46-d93ba806baab",
   "metadata": {
    "ExecuteTime": {
     "end_time": "2019-09-07T01:20:08.739485Z",
     "start_time": "2019-09-07T01:20:07.852064Z"
    },
    "deletable": false,
    "nbgrader": {
     "cell_type": "code",
     "checksum": "4a3a81039a3422cb2941bc8de74da196",
     "grade": false,
     "grade_id": "cell-6de7f9a36f578cf3",
     "locked": false,
     "schema_version": 3,
     "solution": true,
     "task": false
    },
    "tags": []
   },
   "outputs": [],
   "source": [
    "# YOUR CODE HERE\n",
    "raise NotImplementedError()\n"
   ]
  },
  {
   "cell_type": "code",
   "execution_count": null,
   "id": "ab79bb6d-4155-479c-81cd-bae7b9f9da22",
   "metadata": {},
   "outputs": [],
   "source": []
  },
  {
   "cell_type": "markdown",
   "id": "244f1d41-6426-4149-aeab-e1b69b49ffdc",
   "metadata": {},
   "source": [
    "## Chapra: Modified Lokta-Volterra\n",
    "<img src=\"fig/chapra-04-A.png\">\n",
    "<img src=\"fig/chapra-04-B.png\">\n"
   ]
  },
  {
   "cell_type": "code",
   "execution_count": null,
   "id": "c1d8fb18-1635-449b-984a-bda48a940399",
   "metadata": {},
   "outputs": [],
   "source": []
  },
  {
   "cell_type": "markdown",
   "id": "d3d15fd7-1cb9-4abd-bf53-69987908eed0",
   "metadata": {},
   "source": [
    "## Chapra: Chemical reaction\n",
    "<img src=\"fig/chapra-03.png\">"
   ]
  },
  {
   "cell_type": "code",
   "execution_count": null,
   "id": "7c9b8ac3-9d58-4720-aa75-0e1107a41c54",
   "metadata": {
    "ExecuteTime": {
     "end_time": "2019-09-07T01:19:11.165999Z",
     "start_time": "2019-09-07T01:19:10.430934Z"
    }
   },
   "outputs": [],
   "source": [
    "from scipy.integrate import solve_ivp\n",
    "import numpy as np\n",
    "\n",
    "# Parameters\n",
    "A = 999\n",
    "B = 1999\n",
    "C = -1000\n",
    "D = -2000\n",
    "# Time\n",
    "T0 = 0\n",
    "TF = 14.2\n",
    "DT = 0.05\n",
    "T  = np.arange(T0, TF+DT, DT)\n",
    "# Initial conditions\n",
    "X0 = 1.0\n",
    "Y0 = 1.0\n",
    "\n",
    "def fderiv(t, y): \n",
    "    return np.array([y[1], -W*W*y[0]])\n",
    "\n",
    "sol = solve_ivp(fderiv, t_span=[T.min(), T.max()], t_eval=T, y0=[X0, Y0])\n",
    "\n",
    "%matplotlib inline\n",
    "import matplotlib.pyplot as plt\n",
    "import seaborn as sns\n",
    "sns.set()\n",
    "sns.set_context(\"poster\")\n",
    "\n",
    "fig, ax = plt.subplots(1,2, figsize=(14, 6))\n",
    "ax[0].plot(sol.t, sol.y[0], label=r\"Pos\")\n",
    "ax[0].plot(sol.t, sol.y[1], label=r\"Vel\")\n",
    "ax[0].set_xlabel(r\"$t$[s]\")\n",
    "ax[0].set_ylabel(r\"$x(t), y(t)$\")\n",
    "ax[0].legend()\n",
    "ax[1].plot(sol.y[0], sol.y[1])\n",
    "ax[1].set_xlabel(r\"$x$\")\n",
    "ax[1].set_ylabel(r\"$y$\")\n"
   ]
  },
  {
   "cell_type": "code",
   "execution_count": null,
   "id": "3d197744-b38b-48f4-acbb-736d159dc03c",
   "metadata": {},
   "outputs": [],
   "source": []
  },
  {
   "cell_type": "markdown",
   "id": "4b2cb402-60a4-4adc-be1c-3224525b9f21",
   "metadata": {},
   "source": [
    "## Chapra : Linear system\n",
    "<img src=\"fig/chapra-01.png\">"
   ]
  },
  {
   "cell_type": "code",
   "execution_count": null,
   "id": "a4aadbf1-e3aa-40a5-9fa4-888c0c23f929",
   "metadata": {
    "ExecuteTime": {
     "end_time": "2019-09-06T23:46:07.550845Z",
     "start_time": "2019-09-06T23:46:06.477115Z"
    }
   },
   "outputs": [],
   "source": [
    "from scipy.integrate import solve_ivp\n",
    "import numpy as np\n",
    "\n",
    "# Parameters\n",
    "K = 1.234\n",
    "M = 2.345\n",
    "W = np.sqrt(K/M)\n",
    "# Time\n",
    "T0 = 0\n",
    "TF = 2.2*np.pi/W\n",
    "DT = 0.05*np.pi/W\n",
    "T  = np.arange(T0, TF+DT, DT)\n",
    "# Initial conditions\n",
    "X0=0.45\n",
    "Y0=0.0\n",
    "\n",
    "def fderiv(t, y): \n",
    "    return np.array([y[1], -W*W*y[0]])\n",
    "\n",
    "sol = solve_ivp(fderiv, t_span=[T.min(), T.max()], t_eval=T, y0=[X0, Y0])\n",
    "\n",
    "%matplotlib inline\n",
    "import matplotlib.pyplot as plt\n",
    "import seaborn as sns\n",
    "sns.set()\n",
    "sns.set_context(\"poster\")\n",
    "\n",
    "fig, ax = plt.subplots(1,2, figsize=(14, 6))\n",
    "ax[0].plot(sol.t, sol.y[0], label=r\"Pos\")\n",
    "ax[0].plot(sol.t, sol.y[1], label=r\"Vel\")\n",
    "ax[0].set_xlabel(r\"$t$[s]\")\n",
    "ax[0].set_ylabel(r\"$x(t), y(t)$\")\n",
    "ax[0].legend()\n",
    "ax[1].plot(sol.y[0], sol.y[1])\n",
    "ax[1].set_xlabel(r\"$x$\")\n",
    "ax[1].set_ylabel(r\"$y$\")"
   ]
  },
  {
   "cell_type": "markdown",
   "id": "09a9fafb-2150-4ffd-bd30-5d59769b12e7",
   "metadata": {},
   "source": [
    "## The Harmonic oscillator\n",
    "\n",
    "The harmonic oscillator is a paradigmatic example used in many applications, not only physics but also biology.\n",
    "It is described by the following equation,\n",
    "$$\\frac{d^2x}{dt^2} = -\\frac{k}{m} x,$$\n",
    "where $x$ is the elongation, $k$ the elastic constant, and $m$ the mass attached the spring. The theoretical solution is \n",
    "$$x(t) = A\\cos(\\omega t + \\phi),$$\n",
    "where $A$ is the amplitude and $\\phi$ the phase (both of which depend on the initial condition). And $\\omega = \\sqrt{k/m}$ is the frequency. \n",
    "\n",
    "In order to solve the previous differential equation, we need to transform it into a system of first order equations. We do this by introducing a new variable, the velocity, which is the derivative of the position, so now we have $\\vec s = [x, v]$ and\n",
    "$$\n",
    "\\frac{dx}{dt} = v,\\\\\n",
    "\\frac{dv}{dt} = -\\frac{k}{m} x,\n",
    "$$\n",
    "so $\\vec f = [v, -\\frac{k}{m} x]$ . \n",
    "\n",
    "The exercise is to solve the previous equation for both the position and the velocity and to compare with the theoretical solution, using the Euler method. Choose the following : $k = 1.234$, $m=2.345$, $t \\in [0, 2.2\\pi/\\omega]$, $x(0) = 0.45$, $v(0) = 0$, $\\delta t = 0.2\\pi/\\omega$."
   ]
  },
  {
   "cell_type": "markdown",
   "id": "803c81bb-ef27-4d2b-b666-114ad93888c7",
   "metadata": {},
   "source": [
    "For $a<-1$, we have a **stable node**, and you can see that $x$ decays faster to zero than $y$. When $a = -1$, we have a very symmetrical case where both decaying rates are the same: the equilibrium point is called a **star**. When $-1 < a < 0$ we again have a stable node at the origin, but now the solutions decays faster along the $y$ direction. When $a=0$, $x$ does not change at all ,$x(t) = x_0$, and we have a family of stable nodes along the $x$-axis, or a **line of fixed points**. Finally, when $a > 0$, most trajectories are unstable and diverge to infinity, except for those where $x = 0$, the $y$ axis, they go to the origin. Here, the origin is called a **saddle-point**. "
   ]
  },
  {
   "cell_type": "markdown",
   "id": "f0cfbffb-4987-4290-a6fc-89ab91652e83",
   "metadata": {},
   "source": [
    "# Linear stability analysis\n",
    "A two dimensional linear system can be written as\n",
    "\\begin{align}\n",
    "    \\dot x &= ax + by,\\\\\n",
    "    \\dot y &= cx + dy,\n",
    "\\end{align}\n",
    "or, equivalently,\n",
    "\\begin{equation}\n",
    "    \\dot{\\vec{x}} = \\mathbf{A} \\vec x =     \n",
    "    \\left[ \n",
    "     \\begin{array}{c}\n",
    "            \\dot x \\\\ \\dot y\n",
    "     \\end{array} \n",
    "     \\right] = \n",
    "    \\begin{bmatrix}\n",
    "        a & b \\\\\n",
    "        c & d\n",
    "    \\end{bmatrix}\n",
    "        \\left[ \n",
    "     \\begin{array}{c}\n",
    "            x \\\\ y\n",
    "     \\end{array} \n",
    "     \\right].\n",
    "\\end{equation}\n",
    "\n",
    "As you could suspect, all the solutions properties are encoded inside the matrix $A$. Fixed points occur whenever $\\dot{\\vec x} = \\vec 0$. From the definition, $(0, 0)$ is always a fixed point. In the case of the harmonic oscillator, the origin is called a focus (since all orbits are around it but never touch it). For the damped harmonic oscillator, the origin is called an stable equilibrium point, since it attracts all the trajectories in the phase plane. Soon we will learn more classifications.\n",
    "\n"
   ]
  },
  {
   "cell_type": "code",
   "execution_count": null,
   "id": "456173ff-7900-4141-88c0-394e063cf2b1",
   "metadata": {
    "ExecuteTime": {
     "end_time": "2019-09-06T22:56:29.494595Z",
     "start_time": "2019-09-06T22:56:29.485475Z"
    }
   },
   "outputs": [],
   "source": [
    "from scipy import linalg\n",
    "w, v = linalg.eig(A)\n",
    "print(w)\n",
    "print(v)"
   ]
  },
  {
   "cell_type": "markdown",
   "id": "eed98cca-986e-4489-8eba-6596704ed0b9",
   "metadata": {
    "ExecuteTime": {
     "end_time": "2019-09-06T22:04:24.018815Z",
     "start_time": "2019-09-06T22:04:23.997674Z"
    }
   },
   "source": [
    "A two dimensional linear system can be written as\n",
    "\\begin{align}\n",
    "    \\dot x &= ax + by,\\\\\n",
    "    \\dot y &= cx + dy,\n",
    "\\end{align}\n",
    "or, equivalently,\n",
    "\\begin{equation}\n",
    "    \\dot{\\vec{x}} = \\mathbf{A} \\vec x =     \n",
    "    \\left[ \n",
    "     \\begin{array}{c}\n",
    "            \\dot x \\\\ \\dot y\n",
    "     \\end{array} \n",
    "     \\right] = \n",
    "    \\begin{bmatrix}\n",
    "        a & b \\\\\n",
    "        c & d\n",
    "    \\end{bmatrix}\n",
    "        \\left[ \n",
    "     \\begin{array}{c}\n",
    "            x \\\\ y\n",
    "     \\end{array} \n",
    "     \\right].\n",
    "\\end{equation}\n",
    "\n",
    "As you could suspect, all the solutions properties are encoded inside the matrix $A$. Fixed points occur wehenever $\\dot{\\vec x} = \\vec 0$. From the definition, $(0, 0)$ is always a fixed point. In the case of the harmonic oscillator, the origin is called a focus (since all orbits are around it but never touch it). For the damped harmonic oscillator, the origin is called an stable equilibrium point, snce it attracts all the trajectories in the phase plane. Soon we will learn more classifications.\n",
    "\n",
    "Let's take a system where $a$ is arbitrary, $b = c = 0$, and $d = -1$. The solution for this systems is, clearly,\n",
    "\\begin{align}\n",
    "    x(t) &= x_0e^{at},\\\\ \n",
    "    y(t) &= y_0 e^{-t}.\n",
    "\\end{align}\n",
    "Let's plot the phase portrait for several key values for $a$."
   ]
  },
  {
   "cell_type": "code",
   "execution_count": null,
   "id": "225bb3c2-4fa4-4112-a87c-2d014896caba",
   "metadata": {
    "ExecuteTime": {
     "end_time": "2019-09-06T22:56:36.499266Z",
     "start_time": "2019-09-06T22:56:29.500421Z"
    }
   },
   "outputs": [],
   "source": [
    "%matplotlib inline\n",
    "# global imports\n",
    "import numpy as np\n",
    "import matplotlib.pyplot as plt\n",
    "import seaborn as sns\n",
    "sns.set()\n",
    "sns.set_context('poster')\n",
    "\n",
    "fig, axes = plt.subplots(2, 3, figsize=(15,10))\n",
    "# function to return the derivatives\n",
    "def derivatives(state, A = 1.0, t=0): \n",
    "    xd  = A*state[0]\n",
    "    yd = -state[1]\n",
    "    return [xd, yd]\n",
    "\n",
    "N = 30\n",
    "MIN = -1.0\n",
    "MAX = 1.0\n",
    "X, Y = np.meshgrid(np.linspace(MIN, MAX, N), np.linspace(MIN, MAX, N))\n",
    "E = X*X + Y*Y\n",
    "\n",
    "A = [-5.0, -1.0, -0.2, 0, 0.5, 1.5] \n",
    "L = [r\"$a < -1$\", r\"$a = -1$\", r\"$-1 < a < 0$\", r\"$a = 0$\", r\"$0 < a < 1$\", r\"$1 < a$\"]\n",
    "for iA in range(len(A)) :\n",
    "    DX, DY = derivatives([X, Y], A[iA])\n",
    "    axes[int(iA/3), iA%3].streamplot(X, Y, DX, DY, color=E, cmap='viridis', broken_streamlines=False)\n",
    "    axes[int(iA/3), iA%3].set_xlim(MIN, MAX)\n",
    "    axes[int(iA/3), iA%3].set_ylim(MIN, MAX)\n",
    "    axes[int(iA/3), iA%3].set_title(L[iA], fontsize=20)"
   ]
  },
  {
   "cell_type": "code",
   "execution_count": null,
   "id": "f85e1322-8c4b-4945-8bb8-8bdb94436067",
   "metadata": {},
   "outputs": [],
   "source": []
  }
 ],
 "metadata": {
  "kernelspec": {
   "display_name": "Python 3 (ipykernel)",
   "language": "python",
   "name": "python3"
  },
  "language_info": {
   "codemirror_mode": {
    "name": "ipython",
    "version": 3
   },
   "file_extension": ".py",
   "mimetype": "text/x-python",
   "name": "python",
   "nbconvert_exporter": "python",
   "pygments_lexer": "ipython3",
   "version": "3.10.6"
  }
 },
 "nbformat": 4,
 "nbformat_minor": 5
}
