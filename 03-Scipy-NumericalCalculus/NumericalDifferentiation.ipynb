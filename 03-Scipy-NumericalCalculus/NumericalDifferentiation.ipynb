{
 "cells": [
  {
   "cell_type": "markdown",
   "id": "6bdb43a8-bbf2-4f7d-9ad4-c42fdd92de00",
   "metadata": {},
   "source": [
    "Before you turn this problem in, make sure everything runs as expected. First, **restart the kernel** (in the menubar, select Kernel$\\rightarrow$Restart) and then **run all cells** (in the menubar, select Cell$\\rightarrow$Run All).\n",
    "\n",
    "Make sure you fill in any place that says `YOUR CODE HERE` or \"YOUR ANSWER HERE\", as well as your name and collaborators below:"
   ]
  },
  {
   "cell_type": "code",
   "execution_count": null,
   "id": "cba1c46c-bbc6-446d-b610-8095fc85ffb0",
   "metadata": {},
   "outputs": [],
   "source": [
    "NAME = \"\"\n",
    "COLLABORATORS = \"NONE\""
   ]
  },
  {
   "cell_type": "markdown",
   "id": "3c02dac1-497b-4a23-8613-e186ae84b8dd",
   "metadata": {
    "deletable": false,
    "editable": false,
    "nbgrader": {
     "cell_type": "markdown",
     "checksum": "a5190a5b42062a37389080303afb9df3",
     "grade": false,
     "grade_id": "cell-268b6c129426679c",
     "locked": true,
     "schema_version": 3,
     "solution": false,
     "task": false
    },
    "tags": []
   },
   "source": [
    "# Numerical differentiation\n",
    "\n",
    "REFS:\n",
    "- Ward; Kincaid; Numerical mathematics and computing\n",
    "- Wikipedia\n",
    "\n",
    "Computing derivatives is the core of many of the numerical work done in computational physics. But it is not a trivial problem to do so with good accuracy. Numerical derivatives are the core computation in finite difference methods, optimization problems, interpolations and many more.\n",
    "\n",
    "## First approach: forward difference\n",
    "This is based on either the a Taylor expansion for a given function, or in the actual definition of the derivative (see https://en.wikipedia.org/wiki/Numerical_differentiation)\n",
    "| Definition | Graphical interpretation|\n",
    "|-|-|\n",
    "|$$f'(x) \\simeq \\frac{f(x+h) - f(x)}{h} + O(h)$$|<img src=\"https://upload.wikimedia.org/wikipedia/commons/thumb/1/18/Derivative.svg/460px-Derivative.svg.png\" width=300 />|\n",
    "\n",
    "\n",
    "where $h$ is a parameter that ideally goes to zero but in practice that cannot be done due to numerical accuracy. You can also define the backward derivative by just using the previous point. The error estimate can be computed using a Taylor expansion. "
   ]
  },
  {
   "cell_type": "markdown",
   "id": "ae1bdfbc-4e4d-430a-8173-aab81d7880e4",
   "metadata": {
    "deletable": false,
    "editable": false,
    "nbgrader": {
     "cell_type": "markdown",
     "checksum": "9e8958508e10775d3945cd979718aa77",
     "grade": false,
     "grade_id": "cell-a7b4a2f7046d398e",
     "locked": true,
     "schema_version": 3,
     "solution": false,
     "task": false
    },
    "tags": []
   },
   "source": [
    "## A better estimation: Central difference\n",
    "If you compute a forward ($+h$)  \n",
    "$$f(x+h) = f(x) + f'(x) h + f''(x) h^2/2 + f'''(x) h^3/6 + O(h^4) + O(h^5),$$\n",
    "and a backward ($-h$) Taylor expansion,\n",
    "$$f(x-h) = f(x) - f'(x) h + f''(x) h^2/2 - f'''(x) h^3/6 + O(h^4) - O(h^5),$$\n",
    "and then you subtract the second from the first (notice that adding then allows you to compute the second order derivative), you get\n",
    "$$f'(x) \\simeq \\frac{f(x+h) - f(x-h)}{2h} + O(h^2)$$\n",
    "which is called the central difference. The order is improved and this version is better than the simple forward difference. See: https://en.wikipedia.org/wiki/Finite_difference\n",
    "\n",
    "|Comparison among methods| Dependence on $h$|\n",
    "|-|-|\n",
    "|<img src=\"https://upload.wikimedia.org/wikipedia/commons/thumb/9/90/Finite_difference_method.svg/614px-Finite_difference_method.svg.png\" width=400 />|<img src=\"https://upload.wikimedia.org/wikipedia/commons/thumb/4/41/AbsoluteErrorNumericalDifferentiationExample.png/600px-AbsoluteErrorNumericalDifferentiationExample.png\" width=400/>|"
   ]
  },
  {
   "cell_type": "markdown",
   "id": "911a70ee-7a5a-4610-83b2-63bfa65c9fd8",
   "metadata": {
    "deletable": false,
    "editable": false,
    "nbgrader": {
     "cell_type": "markdown",
     "checksum": "491e8a3dbe33102b43b285b3dc30f112",
     "grade": false,
     "grade_id": "cell-fd7b35611ac0a09f",
     "locked": true,
     "schema_version": 3,
     "solution": false,
     "task": false
    },
    "tags": []
   },
   "source": [
    "By using [Richardson extrapolation](https://en.wikipedia.org/wiki/Richardson_extrapolation), you can improve even more the central difference estimation, \n",
    "$$f'(x) = \\phi\\left(\\frac{h}{2}\\right) + \\frac{1}{3}\\left[\\phi\\left(\\frac{h}{2} \\right) - \\phi(h) \\right] + O(h^4)$$,\n",
    "where $\\phi(h)$ is the derivative estimation from the central difference with a given $h$ value.\n",
    "\n"
   ]
  },
  {
   "cell_type": "markdown",
   "id": "5fd9dfaf-9ca6-435b-95c2-f4f2ba4352d4",
   "metadata": {
    "deletable": false,
    "editable": false,
    "nbgrader": {
     "cell_type": "markdown",
     "checksum": "27ca707416bc9109ff87478bac0b55e1",
     "grade": false,
     "grade_id": "cell-2efc63647d50b066",
     "locked": true,
     "schema_version": 3,
     "solution": false,
     "task": false
    }
   },
   "source": [
    "## Other important cases\n",
    "- Interpolating data and then estimating the derivative\n",
    "- Derivative of noisy data: first compute binned averages and then derive. \n",
    "- Higher order derivatives\n",
    "- N-dimensional derivatives. "
   ]
  },
  {
   "cell_type": "markdown",
   "id": "b10fb23f-b901-497c-87fc-148d406e8e16",
   "metadata": {},
   "source": [
    "## Scipy: `scipy.misc.derivative`\n",
    "Of course, scipy offers you a nice function to compute and arbitrary order derivative. You can find the documentation in https://docs.scipy.org/doc/scipy/reference/generated/scipy.misc.derivative.html"
   ]
  },
  {
   "cell_type": "markdown",
   "id": "53dd46a1-17b6-4d8d-82c0-99f451096008",
   "metadata": {
    "deletable": false,
    "editable": false,
    "nbgrader": {
     "cell_type": "markdown",
     "checksum": "0833f338cc83ed53957a07225f536e69",
     "grade": false,
     "grade_id": "cell-3d14a9b3344608f4",
     "locked": true,
     "schema_version": 3,
     "solution": false,
     "task": false
    }
   },
   "source": [
    "# Exercises"
   ]
  },
  {
   "cell_type": "markdown",
   "id": "6bd5bdd7-bc2c-4602-a379-2dc852215765",
   "metadata": {
    "deletable": false,
    "editable": false,
    "nbgrader": {
     "cell_type": "markdown",
     "checksum": "1e0d35f49408db774e1c5c2dbb2cfc2a",
     "grade": false,
     "grade_id": "cell-78b21175e7b6ee5b",
     "locked": true,
     "schema_version": 3,
     "solution": false,
     "task": false
    }
   },
   "source": [
    "## Comparing derivatives\n",
    "To compare the numerical order of the different methods shown, compute the derivative, as a function of $h = \\{0.1, 0.001, 0.001, 10^{-4}, \\ldots, 10^{-18} \\}$, using $f(x) = \\sin x$, and $x=\\pi/3$. Compare with the exact value (from `np.cos`) and plot the relative difference for the three methods.  "
   ]
  },
  {
   "cell_type": "code",
   "execution_count": null,
   "id": "da4798ae-68e6-48e3-b91e-4fcc4a4b12ee",
   "metadata": {
    "deletable": false,
    "nbgrader": {
     "cell_type": "code",
     "checksum": "77b366a6b742476ab641c35dbc58a59f",
     "grade": false,
     "grade_id": "cell-256dd74a37ac2be9",
     "locked": false,
     "schema_version": 3,
     "solution": true,
     "task": false
    },
    "tags": []
   },
   "outputs": [],
   "source": [
    "# %%writefile plot_derivs.py\n",
    "\n",
    "import numpy as np\n",
    "import matplotlib.pyplot as plt\n",
    "from scipy.misc import derivative as spderiv\n",
    "\n",
    "def forward(f, x, h):\n",
    "    return (f(x+h)-f(x))/h\n",
    "\n",
    "def central(f, x, h):\n",
    "    return (f(x+h/2)-f(x-h/2))/h\n",
    "\n",
    "def central_richardson(f, x, h):\n",
    "    # YOUR CODE HERE\n",
    "    raise NotImplementedError()\n",
    "\n",
    "def compare_derivatives():    \n",
    "    fig, ax = plt.subplots()\n",
    "    h = np.power(10.0, np.arange(-18, 0, +1))\n",
    "    x = np.pi/3\n",
    "    # YOUR CODE HERE\n",
    "    raise NotImplementedError()\n",
    "    \n",
    "\n",
    "compare_derivatives()\n",
    "\n"
   ]
  },
  {
   "cell_type": "markdown",
   "id": "b8ff01d1-e748-4672-8e6c-8e74d8f1328b",
   "metadata": {
    "deletable": false,
    "editable": false,
    "nbgrader": {
     "cell_type": "markdown",
     "checksum": "4520a9efd661798a991395606b9a1e91",
     "grade": false,
     "grade_id": "cell-2a533eacea8a3a60",
     "locked": true,
     "schema_version": 3,
     "solution": false,
     "task": false
    },
    "tags": []
   },
   "source": [
    "## Error from Taylor series\n",
    "Determine the error term in the formula\n",
    "$$f'(x) \\simeq \\frac{1}{4h} [f(x+3h) - f(x-h)]$$"
   ]
  },
  {
   "cell_type": "markdown",
   "id": "3712eda1-b78b-4330-b804-031c9766def4",
   "metadata": {
    "deletable": false,
    "nbgrader": {
     "cell_type": "markdown",
     "checksum": "2bf1d67b69c69d1da784becc86069960",
     "grade": true,
     "grade_id": "cell-0086a7b7f893228b",
     "locked": false,
     "points": 1,
     "schema_version": 3,
     "solution": true,
     "task": false
    },
    "tags": []
   },
   "source": [
    "YOUR ANSWER HERE"
   ]
  },
  {
   "cell_type": "markdown",
   "id": "19cc29c2-507c-40cb-91a8-620a55e0da3e",
   "metadata": {
    "deletable": false,
    "editable": false,
    "nbgrader": {
     "cell_type": "markdown",
     "checksum": "8bb5fdce1a1035cb5853e0f7c8934c2f",
     "grade": false,
     "grade_id": "cell-7b44d3512db61b8c",
     "locked": true,
     "schema_version": 3,
     "solution": false,
     "task": false
    }
   },
   "source": [
    "## Lanczos Method\n",
    "Extend the derivatives comparison exercise by adding the following estimation\n",
    "$$f'(x) \\simeq \\frac{3}{2h^3} \\int_{-h}^h tf(x+t) dt .$$\n",
    "How is the order of the approximation?"
   ]
  },
  {
   "cell_type": "code",
   "execution_count": null,
   "id": "100b674f-6c86-446e-a189-f5ca022e0d89",
   "metadata": {
    "deletable": false,
    "nbgrader": {
     "cell_type": "code",
     "checksum": "7e3a028d7a1e1b18316fa3b86c10786a",
     "grade": false,
     "grade_id": "cell-a4d9e66e0eab8a82",
     "locked": false,
     "schema_version": 3,
     "solution": true,
     "task": false
    },
    "tags": []
   },
   "outputs": [],
   "source": [
    "# YOUR CODE HERE\n",
    "raise NotImplementedError()"
   ]
  },
  {
   "cell_type": "markdown",
   "id": "695bf751-aa0a-43f5-a2a6-952b2c4a4d86",
   "metadata": {
    "deletable": false,
    "editable": false,
    "nbgrader": {
     "cell_type": "markdown",
     "checksum": "2310f4f9edafcc71ee860cb19b441358",
     "grade": false,
     "grade_id": "cell-8eac7ffa5ec55646",
     "locked": true,
     "schema_version": 3,
     "solution": false,
     "task": false
    },
    "tags": []
   },
   "source": [
    "## Tracker data\n",
    "Record a video of a particle undergoing parabolic motion. Compute the trajectory using tracker. Export and process the positions using the central difference algorithm to estimate the velocity. How does your estimation compares with the one done by tracker? what method does tracker use? "
   ]
  },
  {
   "cell_type": "markdown",
   "id": "63d97e23-dd11-4e8b-ac0f-a1798e7f4c97",
   "metadata": {
    "deletable": false,
    "nbgrader": {
     "cell_type": "markdown",
     "checksum": "d43a7562af18a479b21fd8a49b58ec94",
     "grade": true,
     "grade_id": "cell-ab803037b898665d",
     "locked": false,
     "points": 1,
     "schema_version": 3,
     "solution": true,
     "task": false
    },
    "tags": []
   },
   "source": [
    "YOUR ANSWER HERE"
   ]
  }
 ],
 "metadata": {
  "kernelspec": {
   "display_name": "Python 3 (ipykernel)",
   "language": "python",
   "name": "python3"
  },
  "language_info": {
   "codemirror_mode": {
    "name": "ipython",
    "version": 3
   },
   "file_extension": ".py",
   "mimetype": "text/x-python",
   "name": "python",
   "nbconvert_exporter": "python",
   "pygments_lexer": "ipython3",
   "version": "3.10.6"
  },
  "toc-autonumbering": true,
  "toc-showcode": false,
  "toc-showmarkdowntxt": false,
  "toc-showtags": false
 },
 "nbformat": 4,
 "nbformat_minor": 5
}
