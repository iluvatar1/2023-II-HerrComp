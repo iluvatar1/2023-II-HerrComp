{
 "cells": [
  {
   "cell_type": "markdown",
   "id": "6bdb43a8-bbf2-4f7d-9ad4-c42fdd92de00",
   "metadata": {},
   "source": [
    "Before you turn this problem in, make sure everything runs as expected. First, **restart the kernel** (in the menubar, select Kernel$\\rightarrow$Restart) and then **run all cells** (in the menubar, select Cell$\\rightarrow$Run All).\n",
    "\n",
    "Make sure you fill in any place that says `YOUR CODE HERE` or \"YOUR ANSWER HERE\", as well as your name and collaborators below:"
   ]
  },
  {
   "cell_type": "code",
   "execution_count": null,
   "id": "cba1c46c-bbc6-446d-b610-8095fc85ffb0",
   "metadata": {},
   "outputs": [],
   "source": [
    "NAME = \"\"\n",
    "COLLABORATORS = \"NONE\""
   ]
  },
  {
   "cell_type": "markdown",
   "id": "c2a1f57f",
   "metadata": {
    "deletable": false,
    "editable": false,
    "nbgrader": {
     "cell_type": "markdown",
     "checksum": "dd0382215a3ffb666127f1b6c17c0f2b",
     "grade": false,
     "grade_id": "cell-81e4b1ca3af83e58",
     "locked": true,
     "schema_version": 3,
     "solution": false,
     "task": false
    }
   },
   "source": [
    "# Numerical Calculus: Integrals and an introduction to scipy\n",
    "\n",
    "Based on : \n",
    "- J.R. Johansson (robert@riken.jp) http://dml.riken.jp/~rob/\n",
    "- Computational physics; Mark newuman\n",
    "- Computational Physics; Landau, Paez, Bordeianu\n",
    "- Heath, scientific computing\n"
   ]
  },
  {
   "cell_type": "markdown",
   "id": "a22afec5",
   "metadata": {
    "deletable": false,
    "editable": false,
    "nbgrader": {
     "cell_type": "markdown",
     "checksum": "6e860c8f97a3b9e28f61569dd1223e07",
     "grade": false,
     "grade_id": "cell-437c78530e814e7b",
     "locked": true,
     "schema_version": 3,
     "solution": false,
     "task": false
    }
   },
   "source": [
    "## Introduction to scipy\n",
    "\n",
    "The SciPy framework builds on top of the low-level NumPy framework for multidimensional arrays, and provides a large number of higher-level scientific algorithms. Some of the topics that SciPy covers are:\n",
    "\n",
    "* Special functions ([scipy.special](http://docs.scipy.org/doc/scipy/reference/special.html))\n",
    "* Integration ([scipy.integrate](http://docs.scipy.org/doc/scipy/reference/integrate.html))\n",
    "* Optimization ([scipy.optimize](http://docs.scipy.org/doc/scipy/reference/optimize.html))\n",
    "* Interpolation ([scipy.interpolate](http://docs.scipy.org/doc/scipy/reference/interpolate.html))\n",
    "* Fourier Transforms ([scipy.fftpack](http://docs.scipy.org/doc/scipy/reference/fftpack.html))\n",
    "* Signal Processing ([scipy.signal](http://docs.scipy.org/doc/scipy/reference/signal.html))\n",
    "* Linear Algebra ([scipy.linalg](http://docs.scipy.org/doc/scipy/reference/linalg.html))\n",
    "* Sparse Eigenvalue Problems ([scipy.sparse](http://docs.scipy.org/doc/scipy/reference/sparse.html))\n",
    "* Statistics ([scipy.stats](http://docs.scipy.org/doc/scipy/reference/stats.html))\n",
    "* Multi-dimensional image processing ([scipy.ndimage](http://docs.scipy.org/doc/scipy/reference/ndimage.html))\n",
    "* File IO ([scipy.io](http://docs.scipy.org/doc/scipy/reference/io.html))\n",
    "\n",
    "Each of these submodules provides a number of functions and classes that can be used to solve problems in their respective topics.\n",
    "\n",
    "In this lecture we will look at how to use some of these subpackages.\n",
    "\n",
    "To access the SciPy package in a Python program, we start by importing everything from the `scipy` module.\n",
    "```\n",
    "import scipy as sp\n",
    "```\n",
    "\n",
    "Please run the next setup cell to import the needed libs"
   ]
  },
  {
   "cell_type": "code",
   "execution_count": null,
   "id": "42ef9400",
   "metadata": {
    "ExecuteTime": {
     "end_time": "2022-08-26T13:37:12.524419Z",
     "start_time": "2022-08-26T13:37:01.709590Z"
    },
    "deletable": false,
    "editable": false,
    "nbgrader": {
     "cell_type": "code",
     "checksum": "70750d5e023403118e9f04f583aec96b",
     "grade": false,
     "grade_id": "cell-9fd667aeda4a0a2a",
     "locked": true,
     "schema_version": 3,
     "solution": false,
     "task": false
    }
   },
   "outputs": [],
   "source": [
    "import numpy as np\n",
    "import scipy as sp\n",
    "import matplotlib.pyplot as plt\n",
    "import seaborn as sns\n",
    "#from IPython.display import Image\n",
    "#from IPython.core.display import HTML \n"
   ]
  },
  {
   "cell_type": "markdown",
   "id": "c9dc4273",
   "metadata": {
    "deletable": false,
    "editable": false,
    "nbgrader": {
     "cell_type": "markdown",
     "checksum": "487f3cb813923033110882286839df54",
     "grade": false,
     "grade_id": "cell-4b341e3e3b63235a",
     "locked": true,
     "schema_version": 3,
     "solution": false,
     "task": false
    }
   },
   "source": [
    "# Common Numerical Integration Algorithms\n",
    "Computing a numerical integral (or quadrature) is a typical problem that appears everywhere in numerical computing. The simple task of computing the error function, $f(x) = \\int_{0}^x e^{-t^2}$, requires the application of numerical techniques to calculate this (improper integral) over an arbitrary range.  \n",
    "\n",
    "In any numerical computing course you will start by exploring the trapezoidal and the simpsons rule. Here we are jus going to give the general formulation and then go directly to the functions given by scipy"
   ]
  },
  {
   "cell_type": "markdown",
   "id": "dc941ace",
   "metadata": {
    "deletable": false,
    "editable": false,
    "nbgrader": {
     "cell_type": "markdown",
     "checksum": "6865bbf06e8fbce4136d686a8ea062e3",
     "grade": false,
     "grade_id": "cell-19136a34c92f38e2",
     "locked": true,
     "schema_version": 3,
     "solution": false,
     "task": false
    }
   },
   "source": [
    "## Trapezoidal rule\n",
    "Here the function between two points is approximated by a straight line and the te area covered by the trapezoid is added up. See: https://en.wikipedia.org/wiki/Trapezoidal_rule\n",
    "\n",
    "|<img src=\"https://upload.wikimedia.org/wikipedia/commons/thumb/d/d1/Integration_num_trapezes_notation.svg/330px-Integration_num_trapezes_notation.svg.png\" /> |<img src=\"https://upload.wikimedia.org/wikipedia/commons/thumb/7/7e/Trapezium2.gif/330px-Trapezium2.gif\" />|\n",
    "|-|-|\n",
    "|1-order interpolation|Better results for more intervals|\n",
    "\n",
    "\n",
    "The integral between two poins, $a$ and $b$, after dividing its lenght in $N$ intervals (N+1 points, regular partition) of size $\\Delta x = \\frac{b-a}{N}$, is given by\n",
    "$$\\int_a^b f(x) dx \\simeq \\Delta x \\left( \\frac{f(x_0)}{2} + \\sum_{k=1}^{N-1} f(x_k) +\\frac{f(x_N)}{2}\\right) + O(N^{-1}),$$\n",
    "where $x_k = x_0 + k \\Delta x$, $x_0 = a$, and $x_N=b$.\n",
    "\n",
    "Now we will check a simple implementation:"
   ]
  },
  {
   "cell_type": "code",
   "execution_count": null,
   "id": "b3fe70ac",
   "metadata": {
    "ExecuteTime": {
     "end_time": "2022-08-26T13:37:17.868880Z",
     "start_time": "2022-08-26T13:37:17.863105Z"
    },
    "deletable": false,
    "editable": false,
    "nbgrader": {
     "cell_type": "code",
     "checksum": "bf4e75d2afe3437647d60659ed6fcbca",
     "grade": false,
     "grade_id": "cell-144cb234e8702709",
     "locked": true,
     "schema_version": 3,
     "solution": false,
     "task": false
    }
   },
   "outputs": [],
   "source": [
    "import numpy as np\n",
    "def trapezoid(f, a, b, n):\n",
    "    \"\"\"\n",
    "    Function to compute an integral using the trapezoid rule\n",
    "    f: function to integrate\n",
    "    a, b: integral limits, b>a\n",
    "    n: Number of intervals to use\n",
    "    \"\"\"\n",
    "    npoints = n+1\n",
    "    xk, dx = np.linspace(a, b, npoints, retstep = True)\n",
    "    result = dx*(0.5*f(xk[0]) + np.sum(f(xk[1:-1])) + 0.5*f(xk[-1]))\n",
    "    return result\n",
    "\n",
    "trapezoid = np.vectorize(trapezoid) # magic to allow to receive vectorized limits"
   ]
  },
  {
   "cell_type": "code",
   "execution_count": null,
   "id": "532cab13",
   "metadata": {
    "ExecuteTime": {
     "end_time": "2022-08-26T13:37:19.868969Z",
     "start_time": "2022-08-26T13:37:19.864194Z"
    },
    "deletable": false,
    "editable": false,
    "nbgrader": {
     "cell_type": "code",
     "checksum": "aaea0679311fad3b5ac2612f8eaf67a0",
     "grade": false,
     "grade_id": "cell-3701f69337a43d9f",
     "locked": true,
     "schema_version": 3,
     "solution": false,
     "task": false
    }
   },
   "outputs": [],
   "source": [
    "print(trapezoid(np.square, 0, 1, 10))\n",
    "print(trapezoid(np.square, 0, 1, 1000))\n",
    "print(trapezoid(np.square, 0, 1, 10000000))\n",
    "print(trapezoid(np.square, [0, 2], [1, 2], 10)) # Check , two limits for two integrals"
   ]
  },
  {
   "cell_type": "markdown",
   "id": "52a82bdf-5afb-411b-9b1a-40606f5f2426",
   "metadata": {},
   "source": [
    "## Small intro to lambda functions\n",
    "From : https://realpython.com/python-lambda/\n",
    "Python lambdas are little, anonymous functions, subject to a more restrictive but more concise syntax than regular Python functions."
   ]
  },
  {
   "cell_type": "code",
   "execution_count": null,
   "id": "0145bccd-c278-4d52-b50c-007b5aaf8634",
   "metadata": {},
   "outputs": [],
   "source": [
    "A = 9.8\n",
    "def myfunction(x, a):\n",
    "    return x*x + a\n",
    "\n",
    "y = myfunction(3.6, A)\n",
    "print(y)\n",
    "\n",
    "\n",
    "z = lambda x: myfunction(x, A)\n",
    "w = z(3.6)\n",
    "print(w)\n",
    "    "
   ]
  },
  {
   "cell_type": "markdown",
   "id": "4a7aa291-fbd3-4060-a2cd-6a20180ee456",
   "metadata": {},
   "source": [
    "## **Exercise**"
   ]
  },
  {
   "cell_type": "markdown",
   "id": "37c40843",
   "metadata": {},
   "source": [
    "\\begin{equation}\n",
    "f(x) = \\frac{2}{\\sqrt{\\pi}}\\int_0^x e^{-t^2} dt\n",
    "\\end{equation}\n",
    "\n",
    "$x \\in [0, 10]$, $\\Delta x = 0.1$\n",
    "\n",
    "$f(x=0), f(x=0+0.1), f(x=0+2*0.1), f(x=0+3*0.1), \\ldots$"
   ]
  },
  {
   "cell_type": "code",
   "execution_count": null,
   "id": "5d9c4746",
   "metadata": {
    "ExecuteTime": {
     "end_time": "2022-08-26T13:37:22.643242Z",
     "start_time": "2022-08-26T13:37:22.636203Z"
    },
    "deletable": false,
    "nbgrader": {
     "cell_type": "code",
     "checksum": "4287060a26a94960b48cd0944ee00977",
     "grade": false,
     "grade_id": "cell-e03b1776d310babb",
     "locked": false,
     "schema_version": 3,
     "solution": true,
     "task": false
    }
   },
   "outputs": [],
   "source": [
    "# Compute the integral of f(x) = (2/\\sqrt{\\pi}) \\int_0^x e^{-t^2} as a function of x, \n",
    "# for x \\in [0, 10] in steps of 0.1\n",
    "# Compute the relative difference between your results and the exact value \n",
    "# from scipy.special.erf, for n=10, 100, 1000\n",
    "# Plot your results\n",
    "def fun(x):\n",
    "    return 2*np.exp(-x*x)/np.sqrt(np.pi)\n",
    "\n",
    "def compute_integral_plot(alg, xmin, xmax, deltax, nbins_integral, algname):\n",
    "    %matplotlib inline\n",
    "    # YOUR CODE HERE\n",
    "    raise NotImplementedError()\n",
    "    "
   ]
  },
  {
   "cell_type": "code",
   "execution_count": null,
   "id": "5b31b803",
   "metadata": {
    "ExecuteTime": {
     "end_time": "2022-08-26T13:40:29.264833Z",
     "start_time": "2022-08-26T13:40:29.075747Z"
    },
    "deletable": false,
    "editable": false,
    "nbgrader": {
     "cell_type": "code",
     "checksum": "92ce0cfafde49761b03fe25e9ead9282",
     "grade": false,
     "grade_id": "cell-752217cfaecf58f9",
     "locked": true,
     "schema_version": 3,
     "solution": false,
     "task": false
    }
   },
   "outputs": [],
   "source": [
    "#print(trapezoid(lambda x: 2*np.exp(-x*x)/np.sqrt(np.pi), 0, 5, 100))\n",
    "#print(trapezoid(fun, 0, 5, 100))\n",
    "compute_integral_plot(trapezoid, 0.1, 10.0, 0.1, 500, \"Trapezoid\")"
   ]
  },
  {
   "cell_type": "markdown",
   "id": "18e71430",
   "metadata": {
    "deletable": false,
    "editable": false,
    "nbgrader": {
     "cell_type": "markdown",
     "checksum": "76420bd473d9d6c3497c1997fc96a422",
     "grade": false,
     "grade_id": "cell-392f63ac8bbc90b1",
     "locked": true,
     "schema_version": 3,
     "solution": false,
     "task": false
    }
   },
   "source": [
    "## Simpsons rule\n",
    "In this case, the method uses three discrete points and approximate the function as a parabola (second order polynomial), to improve the numerical integral computation. See: https://en.wikipedia.org/wiki/Simpson%27s_rule\n",
    "\n",
    "|<img src=\"https://upload.wikimedia.org/wikipedia/commons/thumb/c/ca/Simpsons_method_illustration.svg/440px-Simpsons_method_illustration.svg.png\" width=300 /> |<img src=\"https://upload.wikimedia.org/wikipedia/commons/thumb/6/67/Simpsonsrule2.gif/440px-Simpsonsrule2.gif\" />|\n",
    "|-|-|\n",
    "|2-order interpolation|Better results for more intervals|\n",
    "\n",
    "Now you compute the integral as \n",
    "\\begin{equation}\n",
    "\\int_a^b f(x) dx \\simeq \\frac{\\Delta x}{3}\\left( f(x_0) + 4 \\sum_{k=1}^{N/2} f(x_{2k-1}) + 2\\sum_{k=1}^{N/2-1} f(x_{2k}) + f(x_N)\\right) + O(N^{-3}).\n",
    "\\end{equation}\n",
    "Notice that $N$ must be even.\n",
    "\n",
    "Now let's implement it:\n",
    "\n"
   ]
  },
  {
   "cell_type": "code",
   "execution_count": null,
   "id": "76c6224e",
   "metadata": {
    "ExecuteTime": {
     "end_time": "2022-08-26T13:54:58.854819Z",
     "start_time": "2022-08-26T13:54:58.849503Z"
    },
    "deletable": false,
    "nbgrader": {
     "cell_type": "code",
     "checksum": "4f34bf3b3acf3c25e8ba77ae75720a8c",
     "grade": false,
     "grade_id": "cell-faebff63fdb096ce",
     "locked": false,
     "schema_version": 3,
     "solution": true,
     "task": false
    }
   },
   "outputs": [],
   "source": [
    "import numpy as np\n",
    "def simpson(f, a, b, n):\n",
    "    \"\"\"\n",
    "    Function to compute an integral using the simpsons rule\n",
    "    f: function to integrate\n",
    "    a, b: integral limits, b>a\n",
    "    n: Number of intervals to use\n",
    "    \"\"\"\n",
    "    npoints = n+1\n",
    "    if n%2 != 0: \n",
    "        npoints += 1\n",
    "    # YOUR CODE HERE\n",
    "    raise NotImplementedError()\n",
    "    return result\n",
    "\n",
    "simpson = np.vectorize(simpson) # magic to allow to receive vectorized limits"
   ]
  },
  {
   "cell_type": "code",
   "execution_count": null,
   "id": "2d3da8bb",
   "metadata": {
    "ExecuteTime": {
     "end_time": "2022-08-26T13:55:28.260269Z",
     "start_time": "2022-08-26T13:55:28.256201Z"
    },
    "deletable": false,
    "editable": false,
    "nbgrader": {
     "cell_type": "code",
     "checksum": "882f727907fcaaa3b41979d5a21c0eef",
     "grade": false,
     "grade_id": "cell-424c1ea1e234a7f1",
     "locked": true,
     "schema_version": 3,
     "solution": false,
     "task": false
    }
   },
   "outputs": [],
   "source": [
    "print(simpson(np.square, 0, 1, 10))\n",
    "print(simpson(np.square, 0, [1, 2], 10)) # Check , two limits for two integrals"
   ]
  },
  {
   "cell_type": "code",
   "execution_count": null,
   "id": "becdaeb8",
   "metadata": {
    "ExecuteTime": {
     "end_time": "2022-08-26T13:55:55.750344Z",
     "start_time": "2022-08-26T13:55:55.537741Z"
    },
    "deletable": false,
    "editable": false,
    "nbgrader": {
     "cell_type": "code",
     "checksum": "273785dfce01222ad607185e46de6824",
     "grade": false,
     "grade_id": "cell-2b2fb91ad9463fb0",
     "locked": true,
     "schema_version": 3,
     "solution": false,
     "task": false
    }
   },
   "outputs": [],
   "source": [
    "# Let's plot the same as for the trapezoidal rule\n",
    "compute_integral_plot(simpson, 0.1, 10, 0.1, 500, \"Simpson\")"
   ]
  },
  {
   "cell_type": "markdown",
   "id": "2e779bc5",
   "metadata": {
    "deletable": false,
    "editable": false,
    "nbgrader": {
     "cell_type": "markdown",
     "checksum": "64590bccca8bae4516db202c0c83c723",
     "grade": false,
     "grade_id": "cell-899b9414e9d7c54b",
     "locked": true,
     "schema_version": 3,
     "solution": false,
     "task": false
    }
   },
   "source": [
    "## Other techniques\n",
    "There are ways to improve the previous algorithms to decrease the error: using the [Romberg Method](https://en.wikipedia.org/wiki/Romberg%27s_method), applying higher order decompositions, using [Adaptative techniques](https://en.wikipedia.org/wiki/Adaptive_Simpson%27s_method), using [Gaussian quadrature](https://en.wikipedia.org/wiki/Gaussian_quadrature), mixing some of these techniques, etc. But implementing those methods by hand would be a daunting task. Happily, `scipy` include several routines that already take care of these an many other issues, and are easy to use. \n",
    "\n",
    "NOTE: When you have tabular data, you will be almost forced to use either the trapezoid or the simpsons method. You could also first interpolate the data and then integrate. "
   ]
  },
  {
   "cell_type": "markdown",
   "id": "7c23d49b",
   "metadata": {
    "deletable": false,
    "editable": false,
    "nbgrader": {
     "cell_type": "markdown",
     "checksum": "e4065c11ad62b36d2885f27f472b21b5",
     "grade": false,
     "grade_id": "cell-4edc80d588280a4a",
     "locked": true,
     "schema_version": 3,
     "solution": false,
     "task": false
    }
   },
   "source": [
    "# Scipy functions for numerical quadrature\n",
    "The numerical evaluation of an operation of the type\n",
    "\n",
    "$\\displaystyle \\int_a^b f(x) dx$\n",
    "\n",
    "is called *numerical quadrature*, or simply *quadature*. SciPy provides a series of functions for different kind of quadrature, for example the `quad`, `dblquad` and `tplquad` for single, double and triple integrals, respectively. Let's use [quad](https://docs.scipy.org/doc/scipy/reference/generated/scipy.integrate.quad.html) to compute the same problems as before:"
   ]
  },
  {
   "cell_type": "markdown",
   "id": "9b7a1266",
   "metadata": {
    "deletable": false,
    "editable": false,
    "nbgrader": {
     "cell_type": "markdown",
     "checksum": "b711ec49ad10ea4a76cad4e7068364a5",
     "grade": false,
     "grade_id": "cell-dbacf05dc1f17859",
     "locked": true,
     "schema_version": 3,
     "solution": false,
     "task": false
    }
   },
   "source": [
    "## Simple `quad` examples"
   ]
  },
  {
   "cell_type": "code",
   "execution_count": null,
   "id": "38514fd6",
   "metadata": {
    "ExecuteTime": {
     "end_time": "2022-08-26T13:59:11.473971Z",
     "start_time": "2022-08-26T13:59:11.468725Z"
    },
    "deletable": false,
    "editable": false,
    "nbgrader": {
     "cell_type": "code",
     "checksum": "619a323f8f9beeb42d8a3a1e9eac32f9",
     "grade": false,
     "grade_id": "cell-0b78effb8125843a",
     "locked": true,
     "schema_version": 3,
     "solution": false,
     "task": false
    }
   },
   "outputs": [],
   "source": [
    "from scipy.integrate import quad, dblquad, tplquad\n",
    "print(quad(np.square, 0, 1))\n",
    "integral_val, error = quad(np.square, 0, 1)\n",
    "vquad = np.vectorize(quad)\n",
    "print(vquad(np.square, 0, [1, 2, 3]))\n"
   ]
  },
  {
   "cell_type": "code",
   "execution_count": null,
   "id": "8cc82181",
   "metadata": {
    "ExecuteTime": {
     "end_time": "2022-08-25T16:56:48.569779Z",
     "start_time": "2022-08-25T16:56:48.559165Z"
    },
    "deletable": false,
    "editable": false,
    "nbgrader": {
     "cell_type": "code",
     "checksum": "b181273c88acf3673399385db8f5fa3d",
     "grade": false,
     "grade_id": "cell-a217708b2d76aaa5",
     "locked": true,
     "schema_version": 3,
     "solution": false,
     "task": false
    }
   },
   "outputs": [],
   "source": [
    "# Indefinite integral\n",
    "val, abserr = quad(lambda x: np.exp(-x ** 2), -np.Inf, np.Inf)\n",
    "print(f\"numerical  = {val}, {abserr}\")\n",
    "print(f\"analytical = {np.sqrt(np.pi)}\")"
   ]
  },
  {
   "cell_type": "code",
   "execution_count": null,
   "id": "bfdd1c2e",
   "metadata": {
    "ExecuteTime": {
     "end_time": "2022-08-25T17:04:23.654313Z",
     "start_time": "2022-08-25T17:04:23.633459Z"
    },
    "deletable": false,
    "editable": false,
    "nbgrader": {
     "cell_type": "code",
     "checksum": "8f493789e10b4d6149fb66e4a8399e5a",
     "grade": false,
     "grade_id": "cell-628b11bb38685814",
     "locked": true,
     "schema_version": 3,
     "solution": false,
     "task": false
    }
   },
   "outputs": [],
   "source": [
    "# Double integrals: https://docs.scipy.org/doc/scipy/reference/generated/scipy.integrate.dblquad.html#scipy.integrate.dblquad\n",
    "def integrand(x, y):\n",
    "    return np.exp(-x**2-y**2)\n",
    "\n",
    "x_lower = 0  \n",
    "x_upper = 10\n",
    "y_lower = 0\n",
    "y_upper = 10\n",
    "\n",
    "val, abserr = dblquad(integrand, x_lower, x_upper, lambda x : y_lower, lambda x: y_upper)\n",
    "\n",
    "print (f\"{val=}, {abserr=}\")"
   ]
  },
  {
   "cell_type": "markdown",
   "id": "b4b1930a",
   "metadata": {
    "deletable": false,
    "editable": false,
    "nbgrader": {
     "cell_type": "markdown",
     "checksum": "963e64fcf8184a6585ef23673aef3323",
     "grade": false,
     "grade_id": "cell-4401814ede7b5b5f",
     "locked": true,
     "schema_version": 3,
     "solution": false,
     "task": false
    }
   },
   "source": [
    "# Exercises\n",
    "## Eliptic integral fo the first kind \n",
    "The period of a simple pendulum can be computed as \n",
    "\\begin{equation}\n",
    "K(x) = \\int_0^{\\pi/2} \\frac{d\\theta}{\\sqrt{1-x^2\\sin^2\\theta}}.\n",
    "\\end{equation}\n",
    "Plot the period as a function of $x \\in [0, 1]$. Use, at least, 100 values for $x$. "
   ]
  },
  {
   "cell_type": "code",
   "execution_count": null,
   "id": "65082fe1",
   "metadata": {
    "deletable": false,
    "nbgrader": {
     "cell_type": "code",
     "checksum": "2d5446902f1578edc48b8de5360fd46f",
     "grade": false,
     "grade_id": "cell-e454a563b00e83b9",
     "locked": false,
     "schema_version": 3,
     "solution": true,
     "task": false
    }
   },
   "outputs": [],
   "source": [
    "# YOUR CODE HERE\n",
    "raise NotImplementedError()"
   ]
  },
  {
   "cell_type": "markdown",
   "id": "cca49380",
   "metadata": {
    "deletable": false,
    "editable": false,
    "nbgrader": {
     "cell_type": "markdown",
     "checksum": "9b41f1211d88a2348ea68f27138163e9",
     "grade": false,
     "grade_id": "cell-a71053ba79029902",
     "locked": true,
     "schema_version": 3,
     "solution": false,
     "task": false
    }
   },
   "source": [
    "## Integrating tabular data\n",
    "The following table shows the acceleration (in the $x$ axis), as a function of time, for a particle. This kind of data can be obtained using [Tracker](https://physlets.org/tracker/), a software that can track bodies in a video and compute different mechanical quantities from it. Integrate the data to get the velocity, and then the position, as functions of time. Plot all of them"
   ]
  },
  {
   "cell_type": "code",
   "execution_count": null,
   "id": "3155f9d7",
   "metadata": {
    "ExecuteTime": {
     "end_time": "2022-08-25T18:10:08.950009Z",
     "start_time": "2022-08-25T18:10:08.864995Z"
    },
    "deletable": false,
    "editable": false,
    "nbgrader": {
     "cell_type": "code",
     "checksum": "e426128ede9c21668fda25db20ab2742",
     "grade": false,
     "grade_id": "cell-4c17636c99d36e10",
     "locked": true,
     "schema_version": 3,
     "solution": false,
     "task": false
    }
   },
   "outputs": [],
   "source": [
    "# Generate data\n",
    "np.random.seed(2)\n",
    "t1 = np.linspace(0, 1.1, 11)\n",
    "a1 = 2*t1*(1 + 0.05*np.random.uniform(-1, 1, t1.size))\n",
    "t2 = np.linspace(1.1, 1.8, 7)\n",
    "a2 = a1[-1]*np.ones_like(t2)*(1 + 0.02*np.random.uniform(-1, 1, t2.size))\n",
    "t3 = np.linspace(1.8, 2.6, 9)\n",
    "m = (-a2[-1]/(t3[-1] - t3[0]))\n",
    "a3 = (m*t3 - m*t3[-1])*np.ones_like(t3)*(1 + 0.02*np.random.uniform(-1, 1, t3.size))\n",
    "plt.plot(t1, a1, '-o')\n",
    "plt.plot(t2, a2, '-s')\n",
    "plt.plot(t3, a3, '-p')\n",
    "\n",
    "with open('accel.txt', 'a') as f:\n",
    "    np.savetxt(f, np.column_stack((t1[:-1], a1[:-1])))\n",
    "    np.savetxt(f, np.column_stack((t2[:-1], a2[:-1])))\n",
    "    np.savetxt(f, np.column_stack((t3, a3)))\n",
    "    \n",
    "\n",
    "#y = mx + b"
   ]
  },
  {
   "cell_type": "code",
   "execution_count": null,
   "id": "d58797a7",
   "metadata": {
    "ExecuteTime": {
     "end_time": "2022-08-25T18:10:21.114092Z",
     "start_time": "2022-08-25T18:10:21.108024Z"
    },
    "deletable": false,
    "nbgrader": {
     "cell_type": "code",
     "checksum": "8c0990ad9825a242b39ef2c9b0c1380e",
     "grade": false,
     "grade_id": "cell-21d926dac8320a28",
     "locked": false,
     "schema_version": 3,
     "solution": true,
     "task": false
    }
   },
   "outputs": [],
   "source": [
    "# Integrate and plot\n",
    "# YOUR CODE HERE\n",
    "raise NotImplementedError()"
   ]
  },
  {
   "cell_type": "markdown",
   "id": "594aa2e0",
   "metadata": {
    "deletable": false,
    "editable": false,
    "nbgrader": {
     "cell_type": "markdown",
     "checksum": "0821a415733e447028799b3ac52441c8",
     "grade": false,
     "grade_id": "cell-316a4632a99a78e6",
     "locked": true,
     "schema_version": 3,
     "solution": false,
     "task": false
    }
   },
   "source": [
    "## Difraction limit of a telescope (Newman, 5.4)\n",
    "When light from a distant star passes through the circular aperture of a telescope, you get a difraction pattern which can be described as \n",
    "\\begin{equation}\n",
    "I(r) = \\left(\\frac{J_1(kr)}{kr} \\right)^2,\n",
    "\\end{equation}\n",
    "where $r$ is the distance from the center, $k=2\\pi/\\lambda$, with $\\lambda$ is the wavelenght, and $J_1(x)$ is a Bessel function. The Bessel functions can be computed as\n",
    "\\begin{equation}\n",
    "J_m(x) = \\frac{1}{\\pi} \\int_0^\\pi \\cos(m\\theta - x\\sin\\theta) d\\theta,\n",
    "\\end{equation}\n",
    "where $m$ is a positive integer and $x \\ge 0$. Of course you can use `scipy.special` to compute the Bessel function, but here you will use the quad routine to create a plot of $J_0, J_1, J_2$ for $x \\in [0, 20]$.\n",
    "\n",
    "Create a second function that makes a density plot of the intensity $I(r)$ for a point light source with $\\lambda= 500 $ nm. Make the plot in a square region, and $r$ must go to values around 1 $\\mu$m. Use `imshow`."
   ]
  },
  {
   "cell_type": "code",
   "execution_count": null,
   "id": "85053094",
   "metadata": {
    "deletable": false,
    "nbgrader": {
     "cell_type": "code",
     "checksum": "9c282b851e4c02fa964844b62bc7554f",
     "grade": false,
     "grade_id": "cell-2611ebcaade7b617",
     "locked": false,
     "schema_version": 3,
     "solution": true,
     "task": false
    }
   },
   "outputs": [],
   "source": [
    "# YOUR CODE HERE\n",
    "raise NotImplementedError()"
   ]
  },
  {
   "cell_type": "markdown",
   "id": "b7646c3a",
   "metadata": {
    "deletable": false,
    "editable": false,
    "nbgrader": {
     "cell_type": "markdown",
     "checksum": "adeb7cf2df6b697edc64e9c37f725c42",
     "grade": false,
     "grade_id": "cell-0e201650c73f3b5c",
     "locked": true,
     "schema_version": 3,
     "solution": false,
     "task": false
    }
   },
   "source": [
    "## Heat capacity of a solid (Newman, 5.9)\n",
    "Debye's theory of solids gives the heat capacity, at temperature $T$, as\n",
    "\\begin{equation}\n",
    "C_V(T) = 9 V\\rho k_B \\left(\\frac{T}{\\theta_0} \\right)^3 \\int_0^{\\theta_D/T} \\frac{x^4 e^x}{(e^x-1)^2}dx, \n",
    "\\end{equation}\n",
    "where $V$ is the solid volume, $\\rho$ the atom nuber density, $k_B$ the Boltzmann's constant, and $\\theta_D$ is the Debye temperature. \n",
    "\n",
    "Create a plot of $C_V(T)$, from $T = 5$ K up to $T=500$ K. Use a sample of 1000 cm$^2$ of solid aluminum, which has $\\rho = 6.022\\times 10^{28}$ m$^{-3}$, and a Debye temperature of $\\theta_D = 428$ K.  "
   ]
  },
  {
   "cell_type": "code",
   "execution_count": null,
   "id": "7876648f",
   "metadata": {
    "deletable": false,
    "nbgrader": {
     "cell_type": "code",
     "checksum": "ee66af9e2e2b91b3b04340481214c82c",
     "grade": false,
     "grade_id": "cell-419b26e621e7a371",
     "locked": false,
     "schema_version": 3,
     "solution": true,
     "task": false
    }
   },
   "outputs": [],
   "source": [
    "# YOUR CODE HERE\n",
    "raise NotImplementedError()"
   ]
  },
  {
   "cell_type": "markdown",
   "id": "6a46c75c",
   "metadata": {
    "deletable": false,
    "editable": false,
    "nbgrader": {
     "cell_type": "markdown",
     "checksum": "a2a5c625c05ed8aa3c7c1349a6514453",
     "grade": false,
     "grade_id": "cell-fc17472223af57b1",
     "locked": true,
     "schema_version": 3,
     "solution": false,
     "task": false
    }
   },
   "source": [
    "## Computing the center of mass\n",
    "Compute the [center of mass](https://en.wikipedia.org/wiki/Center_of_mass) for a triangle which corresponds to half the unit square. Use the `dblquad` routine, and you will need to define either the lower or the upper $y$ function. Assume  a constant density, and then a density of the form $\\rho(x, y) = yx^2$. Always set a unit total mass. "
   ]
  },
  {
   "cell_type": "code",
   "execution_count": null,
   "id": "e9327aa2",
   "metadata": {
    "deletable": false,
    "nbgrader": {
     "cell_type": "code",
     "checksum": "4871ab337f4c7ac12481e8516c7c89a1",
     "grade": false,
     "grade_id": "cell-f961b43e87ca7dbd",
     "locked": false,
     "schema_version": 3,
     "solution": true,
     "task": false
    }
   },
   "outputs": [],
   "source": [
    "# YOUR CODE HERE\n",
    "raise NotImplementedError()"
   ]
  },
  {
   "cell_type": "markdown",
   "id": "4fd6a865",
   "metadata": {
    "deletable": false,
    "editable": false,
    "nbgrader": {
     "cell_type": "markdown",
     "checksum": "17865ade16831bed70a0984b3ea1432e",
     "grade": false,
     "grade_id": "cell-c317f278f95b515b",
     "locked": true,
     "schema_version": 3,
     "solution": false,
     "task": false
    }
   },
   "source": [
    "## Distance covered by parachutist (Chapra)\n",
    "The vertical velocity of a parachutist in free fall and under linear drag can be computed as \n",
    "\\begin{equation}\n",
    "v(t) = \\frac{gm}{c}(1- e^{-(c/m)t}),\n",
    "\\end{equation}\n",
    "where $t$ is the time, $g = 9.81$ m/s$^2$ (on earth), $m$ is the mass in kg, and $c$ is the linear drag coeffcient, in kg/s . Compute the distance travelled by the parachutist in the first 8 seconds, given $m=80$ kg and $c = 10$ kg/s. Plot the distance for several mass values $m\\in [50, 120]$ kg. "
   ]
  },
  {
   "cell_type": "code",
   "execution_count": null,
   "id": "80fdfeb3",
   "metadata": {
    "deletable": false,
    "nbgrader": {
     "cell_type": "code",
     "checksum": "74cac293063952674f3fe37f4c15ffc5",
     "grade": false,
     "grade_id": "cell-789ec7f513373a75",
     "locked": false,
     "schema_version": 3,
     "solution": true,
     "task": false
    }
   },
   "outputs": [],
   "source": [
    "# YOUR CODE HERE\n",
    "raise NotImplementedError()"
   ]
  }
 ],
 "metadata": {
  "kernelspec": {
   "display_name": "Python 3 (ipykernel)",
   "language": "python",
   "name": "python3"
  },
  "language_info": {
   "codemirror_mode": {
    "name": "ipython",
    "version": 3
   },
   "file_extension": ".py",
   "mimetype": "text/x-python",
   "name": "python",
   "nbconvert_exporter": "python",
   "pygments_lexer": "ipython3",
   "version": "3.10.6"
  },
  "toc": {
   "base_numbering": 1,
   "nav_menu": {},
   "number_sections": true,
   "sideBar": true,
   "skip_h1_title": false,
   "title_cell": "Table of Contents",
   "title_sidebar": "Contents",
   "toc_cell": false,
   "toc_position": {
    "height": "calc(100% - 180px)",
    "left": "10px",
    "top": "150px",
    "width": "256px"
   },
   "toc_section_display": true,
   "toc_window_display": true
  },
  "toc-autonumbering": true,
  "varInspector": {
   "cols": {
    "lenName": 16,
    "lenType": 16,
    "lenVar": 40
   },
   "kernels_config": {
    "python": {
     "delete_cmd_postfix": "",
     "delete_cmd_prefix": "del ",
     "library": "var_list.py",
     "varRefreshCmd": "print(var_dic_list())"
    },
    "r": {
     "delete_cmd_postfix": ") ",
     "delete_cmd_prefix": "rm(",
     "library": "var_list.r",
     "varRefreshCmd": "cat(var_dic_list()) "
    }
   },
   "types_to_exclude": [
    "module",
    "function",
    "builtin_function_or_method",
    "instance",
    "_Feature"
   ],
   "window_display": false
  }
 },
 "nbformat": 4,
 "nbformat_minor": 5
}
