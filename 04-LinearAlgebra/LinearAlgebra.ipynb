{
 "cells": [
  {
   "cell_type": "markdown",
   "id": "6bdb43a8-bbf2-4f7d-9ad4-c42fdd92de00",
   "metadata": {},
   "source": [
    "Before you turn this problem in, make sure everything runs as expected. First, **restart the kernel** (in the menubar, select Kernel$\\rightarrow$Restart) and then **run all cells** (in the menubar, select Cell$\\rightarrow$Run All).\n",
    "\n",
    "Make sure you fill in any place that says `YOUR CODE HERE` or \"YOUR ANSWER HERE\", as well as your name and collaborators below:"
   ]
  },
  {
   "cell_type": "code",
   "execution_count": null,
   "id": "cba1c46c-bbc6-446d-b610-8095fc85ffb0",
   "metadata": {},
   "outputs": [],
   "source": [
    "NAME = \"\"\n",
    "COLLABORATORS = \"NONE\""
   ]
  },
  {
   "cell_type": "markdown",
   "id": "c62eb672",
   "metadata": {
    "slideshow": {
     "slide_type": "slide"
    }
   },
   "source": [
    "# Linear Systems : Matrices, Vectors, eigen systems\n",
    "In this module we will learn how to solve linear systems which are very common in engineering.\n",
    "Applications are numerous: \n",
    "- Civil, chemical, electrical, mechanical, ..., engineering\n",
    "- In biology by using linear algebra to analyze huge data sets regarding protein folding. https://math.stackexchange.com/questions/571109/any-application-of-vector-spaces-in-biology-or-biotechnology\n",
    "- In genetics to model the evolution of genes.\n",
    "- Markov chains on industrial processes with applications of matrices and eigen systems. \n",
    "- Population dynamics. \n",
    "- Perception of colors. \n",
    "- Adjacency graphs: https://en.wikipedia.org/wiki/Adjacency_matrix , https://towardsdatascience.com/matrices-are-graphs-c9034f79cfd8\n",
    "\n",
    "\n",
    "Tips about matrix computing:\n",
    "- https://nhigham.com/2022/10/11/seven-sins-of-numerical-linear-algebra/\n",
    "- http://gregorygundersen.com/blog/2020/12/09/matrix-inversion/"
   ]
  },
  {
   "cell_type": "markdown",
   "id": "4fb1c37b",
   "metadata": {
    "slideshow": {
     "slide_type": "subslide"
    }
   },
   "source": [
    "<img src=\"fig/Linear-Systems-Applications.png\" width=900>"
   ]
  },
  {
   "cell_type": "markdown",
   "id": "278f6f60",
   "metadata": {
    "slideshow": {
     "slide_type": "subslide"
    }
   },
   "source": [
    "<img src=\"fig/Matrices-rotations-eigenvalues.png\" width=900>\n"
   ]
  },
  {
   "cell_type": "markdown",
   "id": "0757d64c",
   "metadata": {
    "slideshow": {
     "slide_type": "subslide"
    }
   },
   "source": [
    "Ejemplos de rotaciones:\n",
    "- https://www.glowscript.org/#/user/GlowScriptDemos/folder/Examples/program/Bounce-VPython\n",
    "- https://www.glowscript.org/#/user/GlowScriptDemos/folder/Examples/program/Plot3D"
   ]
  },
  {
   "cell_type": "markdown",
   "id": "69ba1911",
   "metadata": {
    "slideshow": {
     "slide_type": "subslide"
    }
   },
   "source": [
    "<img src=\"fig/bungee-family-equ.png\" width=800>"
   ]
  },
  {
   "cell_type": "markdown",
   "id": "018cda0c",
   "metadata": {
    "slideshow": {
     "slide_type": "fragment"
    }
   },
   "source": [
    "> Write this as a linear system $A\\vec x = \\vec b$, with unknows $x_1, x_2, x_3$\n",
    "\n"
   ]
  },
  {
   "cell_type": "markdown",
   "id": "3632dcc5",
   "metadata": {
    "slideshow": {
     "slide_type": "fragment"
    }
   },
   "source": [
    "A = (k1+k2  -k2      0 \n",
    "     -k2    k2+k3   -k3 \n",
    "     0      -k3      k3) \n",
    "     \n",
    "    [[k1 + k2, -k2  , 0  ],\n",
    "     [-k2    , k2+k3, -k3],\n",
    "     [0      , -k3  , k3]]\n",
    "\n",
    "x = (x1\n",
    "     x2\n",
    "     x3)\n",
    "     \n",
    "b = (m1g\n",
    "     m2g\n",
    "     m3g)"
   ]
  },
  {
   "cell_type": "markdown",
   "id": "10a21a81",
   "metadata": {
    "slideshow": {
     "slide_type": "slide"
    }
   },
   "source": [
    "# How to index a Matrix? NOTE: Python indexes start at 0\n",
    "For a discussion about starting at zero see: https://news.ycombinator.com/item?id=32581721\n",
    "<img src=\"fig/matrix-base.png\" width=900>"
   ]
  },
  {
   "cell_type": "markdown",
   "id": "559126e2",
   "metadata": {
    "slideshow": {
     "slide_type": "slide"
    }
   },
   "source": [
    "# Defining matrices in python"
   ]
  },
  {
   "cell_type": "markdown",
   "id": "11b65ef0",
   "metadata": {
    "slideshow": {
     "slide_type": "subslide"
    }
   },
   "source": [
    "## Scipy\n",
    "See https://docs.scipy.org/doc/numpy-1.17.0/reference/generated/numpy.array.html#numpy.array\n",
    "\n"
   ]
  },
  {
   "cell_type": "code",
   "execution_count": null,
   "id": "afba87fc",
   "metadata": {
    "ExecuteTime": {
     "end_time": "2020-09-05T16:24:20.727545Z",
     "start_time": "2020-09-05T16:24:20.718604Z"
    },
    "slideshow": {
     "slide_type": "fragment"
    }
   },
   "outputs": [],
   "source": [
    "import numpy as np\n",
    "A = np.array([[1, 2],  # primera fila, indice es 0\n",
    "              [3, 4]]) # Segunda fila, indice es 1\n",
    "print(A[0][1])\n",
    "print(f\"Matrix : \\n\", A)\n",
    "#\n",
    "A = np.array([1, 2, 3, 4]).reshape(2,2)\n",
    "print(\"Matrix : \\n\", A)\n",
    "print(\"A[1,0] : \\n\", A[1,0])\n",
    "print(\"A[1][0] : \\n\", A[1][0])\n",
    "\n",
    "print(\"A[:,-1] : \\n\", A[:,-1])"
   ]
  },
  {
   "cell_type": "markdown",
   "id": "2cd1687a",
   "metadata": {
    "slideshow": {
     "slide_type": "slide"
    }
   },
   "source": [
    "# Matrix operations\n",
    "Add, substract, multiply, etc\n"
   ]
  },
  {
   "cell_type": "code",
   "execution_count": null,
   "id": "0edb3d94",
   "metadata": {
    "ExecuteTime": {
     "end_time": "2020-09-05T16:28:47.154588Z",
     "start_time": "2020-09-05T16:28:47.127473Z"
    },
    "slideshow": {
     "slide_type": "fragment"
    }
   },
   "outputs": [],
   "source": [
    "import numpy as np\n",
    "a = np.array([[1, 2],[3, 4]])\n",
    "b = np.array([[5, -1], [-3, 24]])\n",
    "c = a+b # sum\n",
    "print(c)\n",
    "c = a*b # Multiplication\n",
    "print(c)\n",
    "c = a/b # divide element by element\n",
    "print(c)\n",
    "print(c.max())\n",
    "print(c.min())\n",
    "print(b/b)"
   ]
  },
  {
   "cell_type": "markdown",
   "id": "9928e6a5",
   "metadata": {
    "slideshow": {
     "slide_type": "slide"
    }
   },
   "source": [
    "# Solving linear systems $A\\vec x= \\vec b$\n",
    "Solve the following system:\n",
    "<img src=\"fig/linear-example-01.png\" width=600>"
   ]
  },
  {
   "cell_type": "code",
   "execution_count": null,
   "id": "56570d7c",
   "metadata": {
    "ExecuteTime": {
     "end_time": "2020-09-05T16:36:51.093105Z",
     "start_time": "2020-09-05T16:36:51.070207Z"
    },
    "slideshow": {
     "slide_type": "fragment"
    }
   },
   "outputs": [],
   "source": [
    "import numpy as np\n",
    "\n",
    "A = np.array([[150, -100, 0], \n",
    "              [-100, 150, -50], \n",
    "              [0, -50, 50]])\n",
    "b = np.array([588.6, 686.7, 784.8])\n",
    "x = np.linalg.solve(A, b) # magic\n",
    "print(\"Solution: \\n\", x)\n",
    "# confirm\n",
    "print(\"Delta:\\n\", A.dot(x) - b)"
   ]
  },
  {
   "cell_type": "code",
   "execution_count": null,
   "id": "8897b867",
   "metadata": {
    "ExecuteTime": {
     "end_time": "2020-09-05T16:43:08.461496Z",
     "start_time": "2020-09-05T16:43:08.311563Z"
    }
   },
   "outputs": [],
   "source": [
    "import numpy as np\n",
    "\n",
    "#np.random.seed(10) # Play with this value\n",
    "\n",
    "N = 1000\n",
    "\n",
    "A = np.random.rand(N,N)\n",
    "b = np.random.rand(N)\n",
    "x = np.linalg.solve(A, b) # magic\n",
    "print(\"Solution: \\n\", x[:10])\n",
    "# confirm\n",
    "#print(\"Delta:\\n\", A.dot(x) - b)"
   ]
  },
  {
   "cell_type": "markdown",
   "id": "2d084388",
   "metadata": {
    "slideshow": {
     "slide_type": "subslide"
    }
   },
   "source": [
    "## Exercise: Rewrite and solve the following system\n",
    "\n",
    "<img src=\"fig/linear-example-03.png\" width=600>"
   ]
  },
  {
   "cell_type": "code",
   "execution_count": null,
   "id": "9c53af71",
   "metadata": {
    "deletable": false,
    "nbgrader": {
     "cell_type": "code",
     "checksum": "456658942e508fdc29c6925b00baccbb",
     "grade": false,
     "grade_id": "cell-071f95ce2936b49e",
     "locked": false,
     "schema_version": 3,
     "solution": true,
     "task": false
    },
    "slideshow": {
     "slide_type": "fragment"
    },
    "tags": []
   },
   "outputs": [],
   "source": [
    "# YOUR CODE HERE\n",
    "raise NotImplementedError()"
   ]
  },
  {
   "cell_type": "code",
   "execution_count": null,
   "id": "42392b86",
   "metadata": {
    "deletable": false,
    "editable": false,
    "nbgrader": {
     "cell_type": "code",
     "checksum": "448441b9518911eea58167cf513320b8",
     "grade": true,
     "grade_id": "cell-f3b19d7d613fd3a4",
     "locked": true,
     "points": 1,
     "schema_version": 3,
     "solution": false,
     "task": false
    },
    "tags": []
   },
   "outputs": [],
   "source": [
    "assert np.all(np.isclose(x, np.array([-17.01923077,  -9.61538462,  -1.53846154])))"
   ]
  },
  {
   "cell_type": "markdown",
   "id": "48de2773",
   "metadata": {
    "slideshow": {
     "slide_type": "subslide"
    }
   },
   "source": [
    "## Exercise: Rewrite and solve the following system\n",
    "Extra: Can yu measure the time spent in the computation? (google for timer or timeit in python)\n",
    "\n",
    "<img src=\"fig/linear-example-02.png\" width=600>"
   ]
  },
  {
   "cell_type": "code",
   "execution_count": null,
   "id": "8a28e61c",
   "metadata": {
    "deletable": false,
    "nbgrader": {
     "cell_type": "code",
     "checksum": "30931c58f9417bb5a4fb9bdb41c58110",
     "grade": false,
     "grade_id": "cell-4b3925270dbd8e7a",
     "locked": false,
     "schema_version": 3,
     "solution": true,
     "task": false
    },
    "slideshow": {
     "slide_type": "fragment"
    },
    "tags": []
   },
   "outputs": [],
   "source": [
    "# YOUR CODE HERE\n",
    "raise NotImplementedError()"
   ]
  },
  {
   "cell_type": "code",
   "execution_count": null,
   "id": "68507d3d",
   "metadata": {
    "deletable": false,
    "editable": false,
    "nbgrader": {
     "cell_type": "code",
     "checksum": "bc11595988cbd0bbe13df653f9ef2f8a",
     "grade": true,
     "grade_id": "cell-3536e93e18aa5479",
     "locked": true,
     "points": 1,
     "schema_version": 3,
     "solution": false,
     "task": false
    },
    "tags": []
   },
   "outputs": [],
   "source": [
    "assert np.all(np.isclose(x, np.array([ 6.15384615, -4.61538462, -1.53846154, -6.15384615, -1.53846154, -1.53846154])))"
   ]
  },
  {
   "cell_type": "markdown",
   "id": "96fcde33",
   "metadata": {
    "slideshow": {
     "slide_type": "subslide"
    }
   },
   "source": [
    "## Exercise: Solve and plot the following system\n",
    "\n",
    "$$ \\frac{-2.3x_1}{5} + x_2 = 1.1 $$\n",
    "$$-0.5x_1 + x_2 = 1 $$\n",
    "Plot the system of equations and check whether this solution is or\n",
    "not special. Compute the quantity `np.linalg.cond`\n"
   ]
  },
  {
   "cell_type": "code",
   "execution_count": null,
   "id": "145b1e3e",
   "metadata": {
    "deletable": false,
    "nbgrader": {
     "cell_type": "code",
     "checksum": "9e3611ba5c5322fe7675522576008d26",
     "grade": false,
     "grade_id": "cell-0ed0acfdac79fafb",
     "locked": false,
     "schema_version": 3,
     "solution": true,
     "task": false
    },
    "slideshow": {
     "slide_type": "fragment"
    },
    "tags": []
   },
   "outputs": [],
   "source": [
    "# YOUR CODE HERE\n",
    "raise NotImplementedError()"
   ]
  },
  {
   "cell_type": "markdown",
   "id": "c483f618",
   "metadata": {
    "slideshow": {
     "slide_type": "subslide"
    }
   },
   "source": [
    "## Exercise: Simulating temperature\n",
    "- Temperature discretized <img src=\"fig/linear-example-04-T.png\" width=800>\n",
    "- System of equations <img src=\"fig/linear-example-04-T-B.png\" width=800>"
   ]
  },
  {
   "cell_type": "code",
   "execution_count": null,
   "id": "358337ca",
   "metadata": {
    "deletable": false,
    "nbgrader": {
     "cell_type": "code",
     "checksum": "6e5e72ef28cbb405e8b668308088b3cb",
     "grade": false,
     "grade_id": "cell-65528549a77abbe8",
     "locked": false,
     "schema_version": 3,
     "solution": true,
     "task": false
    },
    "slideshow": {
     "slide_type": "fragment"
    },
    "tags": []
   },
   "outputs": [],
   "source": [
    "# YOUR CODE HERE\n",
    "raise NotImplementedError()"
   ]
  },
  {
   "cell_type": "markdown",
   "id": "1a87630e",
   "metadata": {},
   "source": [
    "## Exercise \n",
    "How does the computing time grows with the matrix size?"
   ]
  },
  {
   "cell_type": "code",
   "execution_count": null,
   "id": "06258632-e5d9-4b96-9145-1fe88a79bcbe",
   "metadata": {
    "deletable": false,
    "nbgrader": {
     "cell_type": "code",
     "checksum": "8c8b190b211945683324948fd590e1c9",
     "grade": false,
     "grade_id": "cell-3f577915e23f7123",
     "locked": false,
     "schema_version": 3,
     "solution": true,
     "task": false
    },
    "tags": []
   },
   "outputs": [],
   "source": [
    "# YOUR CODE HERE\n",
    "raise NotImplementedError()"
   ]
  },
  {
   "cell_type": "markdown",
   "id": "d2ff7790",
   "metadata": {
    "slideshow": {
     "slide_type": "slide"
    }
   },
   "source": [
    "# Computing inverse matrices\n",
    "See : https://docs.scipy.org/doc/scipy/reference/generated/scipy.linalg.inv.html#scipy.linalg.inv\n",
    "\n",
    "You can watch: https://www.youtube.com/watch?v=uQhTuRlWMxw\n",
    "\n"
   ]
  },
  {
   "cell_type": "code",
   "execution_count": null,
   "id": "f3443bed",
   "metadata": {
    "ExecuteTime": {
     "end_time": "2020-09-05T17:11:16.144181Z",
     "start_time": "2020-09-05T17:11:16.110789Z"
    },
    "slideshow": {
     "slide_type": "fragment"
    }
   },
   "outputs": [],
   "source": [
    "%time\n",
    "from scipy import linalg\n",
    "import numpy as np\n",
    "A = np.array([[1., 2.], \n",
    "              [3., 4.]])\n",
    "B = linalg.inv(A) # magic\n",
    "#print(\"B : \\n\", B)\n",
    "# verify\n",
    "#print(\"A A^-1 : \\n\", A.dot(B))"
   ]
  },
  {
   "cell_type": "code",
   "execution_count": null,
   "id": "ac04c25e",
   "metadata": {
    "ExecuteTime": {
     "end_time": "2020-09-05T17:20:14.621365Z",
     "start_time": "2020-09-05T17:20:14.571632Z"
    }
   },
   "outputs": [],
   "source": [
    "%%time\n",
    "from scipy import linalg\n",
    "import numpy as np\n",
    "N = 1000\n",
    "A = np.random.rand(N, N)\n",
    "B = linalg.inv(A) # magic\n",
    "#print(\"B : \\n\", B)\n",
    "# verify\n",
    "#print(\"A A^-1 : \\n\", A.dot(B))"
   ]
  },
  {
   "cell_type": "markdown",
   "id": "c51d1c9d",
   "metadata": {
    "slideshow": {
     "slide_type": "subslide"
    }
   },
   "source": [
    "## The condition number\n",
    "The number\n",
    "$$\\kappa = ||A|| ||A^{-1}||$$\n",
    "is called the condition number of a matrix. Ideally it is $1$. If $\\kappa$ is much\n",
    "larger than one, the matrix is ill-conditioned and the solution\n",
    "might have a lot of error.\n",
    "> Compute the condition number of the following matrix:\n",
    "   \\begin{equation}\n",
    "   A = \n",
    "   \\begin{bmatrix}\n",
    "   1.001 & 0.001\\\\\n",
    "   0.000 & 0.999\n",
    "   \\end{bmatrix}\n",
    "   \\end{equation}\n",
    "Plot the associate system to check for the result\n"
   ]
  },
  {
   "cell_type": "code",
   "execution_count": null,
   "id": "880d2dda",
   "metadata": {
    "ExecuteTime": {
     "end_time": "2020-09-05T17:23:33.355607Z",
     "start_time": "2020-09-05T17:23:33.279680Z"
    },
    "slideshow": {
     "slide_type": "fragment"
    }
   },
   "outputs": [],
   "source": [
    "from scipy import linalg\n",
    "import numpy as np\n",
    "A = np.array([[1.001, 0.001],\n",
    "                [0.000, 0.999]])\n",
    "kappa = linalg.norm(A)*linalg.norm(linalg.inv(A))\n",
    "print(f\"{kappa = }\")\n"
   ]
  },
  {
   "cell_type": "markdown",
   "id": "a58b0cec",
   "metadata": {},
   "source": [
    "## Exercise \n",
    "How does the computing time grows with the matrix size?"
   ]
  },
  {
   "cell_type": "code",
   "execution_count": null,
   "id": "26b50fd4-c28b-4082-bd13-900a4577def5",
   "metadata": {
    "deletable": false,
    "nbgrader": {
     "cell_type": "code",
     "checksum": "f7ea4f0dd5c2b4adc4b50481dec342ab",
     "grade": false,
     "grade_id": "cell-f2176bd1517c56c2",
     "locked": false,
     "schema_version": 3,
     "solution": true,
     "task": false
    },
    "tags": []
   },
   "outputs": [],
   "source": [
    "from scipy import linalg\n",
    "import numpy as np\n",
    "import time # use time.process_time_ns() , compare with monotonic_ns()\n",
    "\n",
    "MINSIZE=1\n",
    "MAXSIZE=5000\n",
    "NSAMPLES=10\n",
    "data = np.zeros((NSAMPLES, 3))\n",
    "# YOUR CODE HERE\n",
    "raise NotImplementedError()"
   ]
  },
  {
   "cell_type": "code",
   "execution_count": null,
   "id": "9c2707bc-017f-4d09-98f3-5b8f676e4dd2",
   "metadata": {
    "deletable": false,
    "nbgrader": {
     "cell_type": "code",
     "checksum": "e271df2f35e0b8bab90ded26b773919d",
     "grade": false,
     "grade_id": "cell-da30c753c4de9c9f",
     "locked": false,
     "schema_version": 3,
     "solution": true,
     "task": false
    },
    "tags": []
   },
   "outputs": [],
   "source": [
    "# YOUR CODE HERE\n",
    "raise NotImplementedError()"
   ]
  },
  {
   "cell_type": "code",
   "execution_count": null,
   "id": "8f52eca5-c062-4852-8e0f-82ff6c867603",
   "metadata": {},
   "outputs": [],
   "source": [
    "# For profiling, check https://stackoverflow.com/questions/44734297/how-to-profile-python-3-5-code-line-by-line-in-jupyter-notebook-5\n",
    "#!pip install py-heat-magic"
   ]
  },
  {
   "cell_type": "code",
   "execution_count": null,
   "id": "f20d4e0a-a544-4c21-a8a1-171be737bd60",
   "metadata": {},
   "outputs": [],
   "source": [
    "%load_ext heat"
   ]
  },
  {
   "cell_type": "code",
   "execution_count": null,
   "id": "75cad31f-a470-425a-9133-17754ed2302c",
   "metadata": {
    "deletable": false,
    "nbgrader": {
     "cell_type": "code",
     "checksum": "8c644ea6f2a5586db3512e3fbf95146d",
     "grade": false,
     "grade_id": "cell-7a89ff3d782ebc5d",
     "locked": false,
     "schema_version": 3,
     "solution": true,
     "task": false
    },
    "tags": []
   },
   "outputs": [],
   "source": [
    "# YOUR CODE HERE\n",
    "raise NotImplementedError()\n"
   ]
  },
  {
   "cell_type": "markdown",
   "id": "ce4a23ce-a0ab-4364-a316-ff93742f0cf7",
   "metadata": {},
   "source": [
    "Improve this by taking at least 10 time samples per matrix size and computing the statistics"
   ]
  },
  {
   "cell_type": "markdown",
   "id": "276b6144",
   "metadata": {
    "slideshow": {
     "slide_type": "slide"
    }
   },
   "source": [
    "# Eigen values and eigen vectors\n",
    "The eigen-values ${\\lambda_i}$ and eigen-vectors ${x}$ of a matrix satisfy the equation \n",
    "\n",
    "$$ A\\vec x = \\lambda \\vec x $$\n",
    "\n",
    "The eigen-vectors form a basis where the matrix can be\n",
    "diagonalized. In general, computing the eigen vectors and\n",
    "aeigenvalues is hard, and they can also be complex.\n",
    "\n",
    "For a more visual introduction watch:  https://www.youtube.com/watch?v=PFDu9oVAE-g\n",
    "\n",
    "<img src=\"fig/vector-field.png\" width=700>\n",
    "REF: https://www.reddit.com/r/math/comments/b7ou6t/3blue1brown_overview_of_differential_equations/"
   ]
  },
  {
   "cell_type": "code",
   "execution_count": null,
   "id": "18cdbd6a",
   "metadata": {
    "ExecuteTime": {
     "end_time": "2020-09-05T17:29:48.031729Z",
     "start_time": "2020-09-05T17:29:48.012948Z"
    },
    "slideshow": {
     "slide_type": "subslide"
    }
   },
   "outputs": [],
   "source": [
    "# See : https://docs.scipy.org/doc/scipy/reference/generated/scipy.linalg.eig.html#scipy.linalg.eig\n",
    "import numpy as np\n",
    "from scipy import linalg\n",
    "#A = np.array([[0., -1.], [1., 0.]])\n",
    "#A = np.array([[1, 0.], [0., 2.]])\n",
    "A = np.array([[2, 5, 8, 7], [5, 2, 2, 8], [7, 5, 6, 6], [5, 4, 4, 8]])\n",
    "sol = linalg.eig(A) # magic\n",
    "print(\"Eigen-values: \", sol[0])\n",
    "print(\"Eigen-vectors:\\n\", sol[1])\n",
    "# verify\n",
    "print(\"Verification: \", A.dot(sol[1][:, 0]) - sol[0][0]*sol[1][:, 0])\n"
   ]
  },
  {
   "cell_type": "markdown",
   "id": "29559b30",
   "metadata": {
    "slideshow": {
     "slide_type": "subslide"
    }
   },
   "source": [
    "## Exercise\n",
    "Find the eigen-values and eigen-vectors for the following system\n",
    "<img src=\"fig/eigen-exer-02.png\" width=700>"
   ]
  },
  {
   "cell_type": "code",
   "execution_count": null,
   "id": "40f9b4b7",
   "metadata": {
    "ExecuteTime": {
     "end_time": "2020-09-05T17:39:52.557398Z",
     "start_time": "2020-09-05T17:39:52.530189Z"
    },
    "deletable": false,
    "nbgrader": {
     "cell_type": "code",
     "checksum": "f8a5be0151d8c88dbd85d85860fc68d6",
     "grade": false,
     "grade_id": "cell-5e02399c90766d24",
     "locked": false,
     "schema_version": 3,
     "solution": true,
     "task": false
    },
    "slideshow": {
     "slide_type": "fragment"
    },
    "tags": []
   },
   "outputs": [],
   "source": [
    "# YOUR CODE HERE\n",
    "raise NotImplementedError()\n"
   ]
  },
  {
   "cell_type": "markdown",
   "id": "4830b87d",
   "metadata": {},
   "source": [
    "## Exercise \n",
    "How does the computing time grows with the matrix size?"
   ]
  },
  {
   "cell_type": "code",
   "execution_count": null,
   "id": "04e4f048-e93a-4e56-98ed-bae866c5a4ce",
   "metadata": {
    "deletable": false,
    "nbgrader": {
     "cell_type": "code",
     "checksum": "d176ca398687424b5e36bda17ff870a8",
     "grade": false,
     "grade_id": "cell-8c192a8cd5054437",
     "locked": false,
     "schema_version": 3,
     "solution": true,
     "task": false
    }
   },
   "outputs": [],
   "source": [
    "# YOUR CODE HERE\n",
    "raise NotImplementedError()"
   ]
  },
  {
   "cell_type": "code",
   "execution_count": null,
   "id": "1992424d-9eda-43c0-846f-1b60274e26c5",
   "metadata": {
    "deletable": false,
    "nbgrader": {
     "cell_type": "code",
     "checksum": "25c622ac85543df1fa1747e870a01c8b",
     "grade": false,
     "grade_id": "cell-1f708c649a1c8567",
     "locked": false,
     "schema_version": 3,
     "solution": true,
     "task": false
    },
    "tags": []
   },
   "outputs": [],
   "source": [
    "# YOUR CODE HERE\n",
    "raise NotImplementedError()"
   ]
  },
  {
   "cell_type": "markdown",
   "id": "978eecb0",
   "metadata": {
    "slideshow": {
     "slide_type": "slide"
    }
   },
   "source": [
    "# Problems"
   ]
  },
  {
   "cell_type": "markdown",
   "id": "f08e84ad",
   "metadata": {
    "slideshow": {
     "slide_type": "subslide"
    }
   },
   "source": [
    "## Linear System\n",
    "<img src=\"fig/problem-03.png\" width=700>"
   ]
  },
  {
   "cell_type": "code",
   "execution_count": null,
   "id": "1462476e",
   "metadata": {
    "deletable": false,
    "nbgrader": {
     "cell_type": "code",
     "checksum": "9253bdc3aa0fbd7512fd05914512f854",
     "grade": false,
     "grade_id": "cell-55020e4b83341322",
     "locked": false,
     "schema_version": 3,
     "solution": true,
     "task": false
    },
    "slideshow": {
     "slide_type": "fragment"
    },
    "tags": []
   },
   "outputs": [],
   "source": [
    "# YOUR CODE HERE\n",
    "raise NotImplementedError()"
   ]
  },
  {
   "cell_type": "markdown",
   "id": "1e193092",
   "metadata": {
    "slideshow": {
     "slide_type": "subslide"
    }
   },
   "source": [
    "## Rotation matrix \n",
    "Let $\\vec x = (a, b)$ be a two-dimensional vector. Write a matrix that rotates the vector by 90 degrees. Use matrix multiplication to check your results. "
   ]
  },
  {
   "cell_type": "code",
   "execution_count": null,
   "id": "834715a8",
   "metadata": {
    "deletable": false,
    "nbgrader": {
     "cell_type": "code",
     "checksum": "49a99153845471664e35b480df96a6e6",
     "grade": false,
     "grade_id": "cell-8247ad8a08fda29f",
     "locked": false,
     "schema_version": 3,
     "solution": true,
     "task": false
    },
    "tags": []
   },
   "outputs": [],
   "source": [
    "# YOUR CODE HERE\n",
    "raise NotImplementedError()"
   ]
  },
  {
   "cell_type": "markdown",
   "id": "02d42488",
   "metadata": {},
   "source": [
    "# Thick lens (Boas, 3.15.9)\n",
    "The next matrix is used when discussing a thick lens in air\n",
    "\\begin{equation}\n",
    "A = \n",
    "\\begin{pmatrix}\n",
    "1 & (n-1)/R_2\\\\\n",
    "0 & 1\n",
    "\\end{pmatrix}\n",
    "\\begin{pmatrix}\n",
    "1 & 0\\\\\n",
    "d/n & 1\n",
    "\\end{pmatrix}\n",
    "\\begin{pmatrix}\n",
    "1 & -(n-1)/R_1\\\\\n",
    "0 & 1\n",
    "\\end{pmatrix},\n",
    "\\end{equation}\n",
    "where $d$ is the thickness of the lens, $n$ is the refraction index, and $R_1$ and $R_2$ are the curvature radius. Element $A_{12}$ is equal to $-1/f$, where $f$ is the focal distance. Evaluate $\\det A$ and $1/f$ as functions of $n \\in [1, 3]$.  \n",
    "\n",
    "\n"
   ]
  },
  {
   "cell_type": "code",
   "execution_count": null,
   "id": "24e6eaa1",
   "metadata": {
    "deletable": false,
    "nbgrader": {
     "cell_type": "code",
     "checksum": "e57e7f0af7b98cffcb1ee06628464cd1",
     "grade": false,
     "grade_id": "cell-d10b0be01b8803d6",
     "locked": false,
     "schema_version": 3,
     "solution": true,
     "task": false
    },
    "tags": []
   },
   "outputs": [],
   "source": [
    "# YOUR CODE HERE\n",
    "raise NotImplementedError()"
   ]
  },
  {
   "cell_type": "markdown",
   "id": "78a253b4",
   "metadata": {
    "slideshow": {
     "slide_type": "subslide"
    }
   },
   "source": [
    "## System of reactors\n",
    "\n",
    "|System | Model |\n",
    "|-|-|\n",
    "|<img src=\"fig/problem-04-B.png\" width=700>|<img src=\"fig/problem-04.png\" width=700>|"
   ]
  },
  {
   "cell_type": "code",
   "execution_count": null,
   "id": "a263a178",
   "metadata": {
    "ExecuteTime": {
     "end_time": "2020-09-05T18:14:01.390431Z",
     "start_time": "2020-09-05T18:14:01.301088Z"
    },
    "deletable": false,
    "nbgrader": {
     "cell_type": "code",
     "checksum": "c7cb17be78f63b8b9af007791a1e8578",
     "grade": false,
     "grade_id": "cell-ed3e65b20fdd0f2f",
     "locked": false,
     "schema_version": 3,
     "solution": true,
     "task": false
    },
    "slideshow": {
     "slide_type": "fragment"
    },
    "tags": []
   },
   "outputs": [],
   "source": [
    "# YOUR CODE HERE\n",
    "raise NotImplementedError()\n"
   ]
  },
  {
   "cell_type": "markdown",
   "id": "93853fa6",
   "metadata": {
    "slideshow": {
     "slide_type": "subslide"
    }
   },
   "source": [
    "## Products production\n",
    "<img src=\"fig/problem-05.png\" width=700>"
   ]
  },
  {
   "cell_type": "code",
   "execution_count": null,
   "id": "87317ab6",
   "metadata": {
    "deletable": false,
    "nbgrader": {
     "cell_type": "code",
     "checksum": "10b98115bda29f8f21a6754725e453a4",
     "grade": false,
     "grade_id": "cell-bda94f0537f476d7",
     "locked": false,
     "schema_version": 3,
     "solution": true,
     "task": false
    },
    "slideshow": {
     "slide_type": "fragment"
    },
    "tags": []
   },
   "outputs": [],
   "source": [
    "# YOUR CODE HERE\n",
    "raise NotImplementedError()"
   ]
  },
  {
   "cell_type": "markdown",
   "id": "ffa410f7",
   "metadata": {
    "slideshow": {
     "slide_type": "subslide"
    }
   },
   "source": [
    "## Teaching distribution\n",
    "<img src=\"fig/problem-06.png\" width=700>"
   ]
  },
  {
   "cell_type": "code",
   "execution_count": null,
   "id": "2a7b891a",
   "metadata": {
    "deletable": false,
    "nbgrader": {
     "cell_type": "code",
     "checksum": "de46c13d37102032ce511d82b2c81041",
     "grade": false,
     "grade_id": "cell-b48d717b35a99573",
     "locked": false,
     "schema_version": 3,
     "solution": true,
     "task": false
    },
    "slideshow": {
     "slide_type": "fragment"
    },
    "tags": []
   },
   "outputs": [],
   "source": [
    "# YOUR CODE HERE\n",
    "raise NotImplementedError()"
   ]
  },
  {
   "cell_type": "markdown",
   "id": "2e0f9a3a",
   "metadata": {
    "slideshow": {
     "slide_type": "subslide"
    }
   },
   "source": [
    "## GPA\n",
    "| Statement | Table|\n",
    "|-|-|\n",
    "|<img src=\"fig/problem-07-A.png\" width=500> | <img src=\"fig/problem-07-B.png\" width=500>|"
   ]
  },
  {
   "cell_type": "code",
   "execution_count": null,
   "id": "c8af72f9",
   "metadata": {
    "deletable": false,
    "nbgrader": {
     "cell_type": "code",
     "checksum": "a6d054e96ac73d74f4c75f6bc21480bf",
     "grade": false,
     "grade_id": "cell-3731971d8905f151",
     "locked": false,
     "schema_version": 3,
     "solution": true,
     "task": false
    },
    "slideshow": {
     "slide_type": "fragment"
    },
    "tags": []
   },
   "outputs": [],
   "source": [
    "# YOUR CODE HERE\n",
    "raise NotImplementedError()"
   ]
  },
  {
   "cell_type": "markdown",
   "id": "1604e72d",
   "metadata": {
    "slideshow": {
     "slide_type": "subslide"
    }
   },
   "source": [
    "## Payments\n",
    "<img src=\"fig/problem-08.png\" width=700>"
   ]
  },
  {
   "cell_type": "code",
   "execution_count": null,
   "id": "8cfacfba",
   "metadata": {
    "deletable": false,
    "nbgrader": {
     "cell_type": "code",
     "checksum": "b2e2f348ef0c90b9e3245d030f419d57",
     "grade": false,
     "grade_id": "cell-d03070396337da3e",
     "locked": false,
     "schema_version": 3,
     "solution": true,
     "task": false
    },
    "slideshow": {
     "slide_type": "fragment"
    },
    "tags": []
   },
   "outputs": [],
   "source": [
    "# YOUR CODE HERE\n",
    "raise NotImplementedError()"
   ]
  }
 ],
 "metadata": {
  "kernelspec": {
   "display_name": "Python 3 (ipykernel)",
   "language": "python",
   "name": "python3"
  },
  "language_info": {
   "codemirror_mode": {
    "name": "ipython",
    "version": 3
   },
   "file_extension": ".py",
   "mimetype": "text/x-python",
   "name": "python",
   "nbconvert_exporter": "python",
   "pygments_lexer": "ipython3",
   "version": "3.10.6"
  },
  "toc": {
   "base_numbering": 1,
   "nav_menu": {},
   "number_sections": true,
   "sideBar": true,
   "skip_h1_title": false,
   "title_cell": "Table of Contents",
   "title_sidebar": "Contents",
   "toc_cell": false,
   "toc_position": {},
   "toc_section_display": true,
   "toc_window_display": true
  },
  "toc-autonumbering": true,
  "varInspector": {
   "cols": {
    "lenName": 16,
    "lenType": 16,
    "lenVar": 40
   },
   "kernels_config": {
    "python": {
     "delete_cmd_postfix": "",
     "delete_cmd_prefix": "del ",
     "library": "var_list.py",
     "varRefreshCmd": "print(var_dic_list())"
    },
    "r": {
     "delete_cmd_postfix": ") ",
     "delete_cmd_prefix": "rm(",
     "library": "var_list.r",
     "varRefreshCmd": "cat(var_dic_list()) "
    }
   },
   "types_to_exclude": [
    "module",
    "function",
    "builtin_function_or_method",
    "instance",
    "_Feature"
   ],
   "window_display": false
  }
 },
 "nbformat": 4,
 "nbformat_minor": 5
}
