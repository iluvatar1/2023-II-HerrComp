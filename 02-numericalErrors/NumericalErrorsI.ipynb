{
 "cells": [
  {
   "cell_type": "markdown",
   "id": "6bdb43a8-bbf2-4f7d-9ad4-c42fdd92de00",
   "metadata": {},
   "source": [
    "Before you turn this problem in, make sure everything runs as expected. First, **restart the kernel** (in the menubar, select Kernel$\\rightarrow$Restart) and then **run all cells** (in the menubar, select Cell$\\rightarrow$Run All).\n",
    "\n",
    "Make sure you fill in any place that says `YOUR CODE HERE` or \"YOUR ANSWER HERE\", as well as your name and collaborators below:"
   ]
  },
  {
   "cell_type": "code",
   "execution_count": null,
   "id": "cba1c46c-bbc6-446d-b610-8095fc85ffb0",
   "metadata": {},
   "outputs": [],
   "source": [
    "NAME = \"\"\n",
    "COLLABORATORS = \"NONE\""
   ]
  },
  {
   "cell_type": "markdown",
   "id": "b510141c",
   "metadata": {
    "deletable": false,
    "editable": false,
    "nbgrader": {
     "cell_type": "markdown",
     "checksum": "939e9f5a938e63befe715f7f99a558da",
     "grade": false,
     "grade_id": "cell-850e9c8690040bbb",
     "locked": true,
     "schema_version": 3,
     "solution": false,
     "task": false
    }
   },
   "source": [
    "# Numerical errors (very short intro)\n",
    "Computers are finite. Therefore, they cannot represent the whole range of integer or real numbers. This implies some intrinsic errors when performing numerical computations, errors that one must be aware and control as best as possible. Those errors could appear when you represent a very large (overflow) or very small (underflow) numbers, or when the computer numbers available are different from the one you want to represent (truncation/round-off), or when you perform computations among numbers that are very different, etc. Fortunately, there is a standard that allow us to have the same behavior (and errors) on almost all platforms, the IEEE754 standard. In the following we will explore some of the aspect associated with the integer but specially floating point arithmetic. \n",
    "\n",
    "# Binary representation\n",
    "Every number is represented as a binary one. Check \n",
    "- https://bartaz.github.io/ieee754-visualization/\n",
    "- https://float.exposed/0x44c00000\n",
    "- https://www.h-schmidt.net/FloatConverter/IEEE754.html\n",
    "- https://en.wikipedia.org/wiki/Floating-point_arithmetic\n",
    "- https://trekhleb.dev/blog/2021/binary-floating-point/\n",
    "\n",
    "having finite memory, this also means that:\n",
    "- You have a finite range of integer and float number to represent\n",
    "- The density of the float numbers is not uniform (is a power law). In single precision, you have almost half of the whole available numbers between 0 and 1, and only 8000 between 1023 and 1024. So NORMALIZE your models!\n",
    "<img src=\"https://upload.wikimedia.org/wikipedia/commons/b/b6/FloatingPointPrecisionAugmented.png\">\n",
    "- In general, single precision numbers have a relative precision of about $10^{-6}$, while double precision numbers have a relative precision of $10^{-15}$. \n",
    "\n",
    "If you want to learn more, check : https://docs.oracle.com/cd/E19957-01/806-3568/ncg_goldberg.html\n",
    "\n",
    "Let's start now to check the typical errors, the underflow and the underflow\n",
    "\n",
    "# Underflow and overflow\n",
    "Underflows means representing a number smaller thatn the available ones. This usually rounds to zero (good). Overflows means representing a numer larger than the available ones This usually rounds to `inf` (bad) or , for integers in languages like C++, to negative numbers (very bad). You can check the possible range here: https://en.cppreference.com/w/cpp/language/types\n",
    "\n",
    "NOTE: In python, integers could have arbitrary precision. This removes the problem of overflow, but makes them slow when they have to be simulated in software. \n",
    "  \n"
   ]
  },
  {
   "cell_type": "code",
   "execution_count": null,
   "id": "ca78ae12",
   "metadata": {},
   "outputs": [],
   "source": [
    "# Overflow, underflow \n",
    "# EXERCISE:  Find the N that produces overflow and underflow, for both np.float32 and np.float64\n",
    "\n",
    "import numpy as np\n",
    "under = 1.\n",
    "over = 1.\n",
    "N =100\n",
    "odata = np.zeros(N, dtype=np.float32)\n",
    "udata = np.zeros(N, dtype=np.float32)\n",
    "for ii in range(N):\n",
    "    under /= 2.0\n",
    "    over *= 2.0\n",
    "    odata[ii] = over\n",
    "    udata[ii] = under\n",
    "    #print(f\"{ii:25d}\\t{udata[ii]:25.16e}\\t{odata[ii]:25.16e}\\n\")\n",
    "\n",
    "import matplotlib.pyplot as plt\n",
    "%matplotlib inline\n",
    "fig, axes = plt.subplots(1, 2, figsize=(10, 4))\n",
    "axes[0].semilogy(np.arange(N), odata)\n",
    "axes[1].semilogy(udata)\n",
    "fig.tight_layout()\n"
   ]
  },
  {
   "cell_type": "markdown",
   "id": "ac1bfe0d",
   "metadata": {
    "deletable": false,
    "editable": false,
    "nbgrader": {
     "cell_type": "markdown",
     "checksum": "e589573f5edf57186b5501a453eacdd1",
     "grade": false,
     "grade_id": "cell-c83631f0b256a08d",
     "locked": true,
     "schema_version": 3,
     "solution": false,
     "task": false
    }
   },
   "source": [
    "# Machine precision\n",
    "You can also compute/verify the machine precision $\\epsilon_m$ of your machine according to different types. The machine precision is a number that basically rounds to zero and in opertation. It can be represented as $1_c + \\epsilon_m = 1_c$, where $1_c$ is the computational representation of the number 1. Actually, that means than any real number $x$ is actually represented as \n",
    " $$x_c = x(1+\\epsilon), |\\epsilon| \\le \\epsilon_m .$$\n",
    "\n",
    "Implement the following algorithm to compute it and report your results:\n",
    "```\n",
    "eps = 1.0\n",
    "begin do N times\n",
    "    eps = eps/2.0\n",
    "    one = 1.0 + eps\n",
    "    print\n",
    "```\n",
    "What do you obtain for `np.float32`, `np.float32`, and `np.float64`? "
   ]
  },
  {
   "cell_type": "markdown",
   "id": "571dc92f",
   "metadata": {
    "deletable": false,
    "editable": false,
    "nbgrader": {
     "cell_type": "markdown",
     "checksum": "4385f615ef4eb0b95e5b50f66fd0e6cd",
     "grade": false,
     "grade_id": "cell-88b94657fcb75052",
     "locked": true,
     "schema_version": 3,
     "solution": false,
     "task": false
    }
   },
   "source": [
    "# Practical example: Series expansion of $e^{-x}$\n",
    "The function $e^{-x}$ can be expanded as \n",
    "$$e^{-x} = \\sum_{i=0}^{\\infty} (-1)^i \\frac{x^i}{i!} = 1 -  x + \\frac{x^2}{2} - \\frac{x^3}{6} + \\ldots \\ (|x| < \\infty)$$\n",
    "\n",
    "This is a great expansion, valid for all finite values of $x$. But, **what numerical problems do you see?**\n",
    "\n",
    "Implement a function that receives $x$ and $N$ (max number of terms), and saves the iteration value of the series as a function of $i$ in a file called `sumdata.txt`. Then load the data and plot it. Use $N = 10000$ and $x=1.8766$. You will need to implement also a factorial function."
   ]
  },
  {
   "cell_type": "code",
   "execution_count": null,
   "id": "2e24f5f8",
   "metadata": {
    "deletable": false,
    "nbgrader": {
     "cell_type": "code",
     "checksum": "e1f39842f282bfbcf63ed213b803de07",
     "grade": false,
     "grade_id": "cell-ad6b685f55ec31ac",
     "locked": false,
     "schema_version": 3,
     "solution": true,
     "task": false
    }
   },
   "outputs": [],
   "source": [
    "# use fout.write(f\"...\") to save the data \n",
    "def exp_expansion(x, N, fname):\n",
    "    \"\"\"Add docs here\"\"\"\n",
    "    total = 0.0\n",
    "    fout = open(fname, \"w\")\n",
    "    # YOUR CODE HERE\n",
    "    raise NotImplementedError()\n",
    "    fout.close()\n",
    "\n",
    "def factorial(n):\n",
    "    \"\"\"Add docs here\"\"\"\n",
    "    result = 1.0\n",
    "    for ii in range(1,n+1):\n",
    "        result *= ii\n",
    "    return result\n",
    " \n",
    "# Call the function  \n",
    "exp_expansion(x=1.8766, N=10000, fname=\"sumdata.txt\")\n"
   ]
  },
  {
   "cell_type": "code",
   "execution_count": null,
   "id": "9ca599a8",
   "metadata": {},
   "outputs": [],
   "source": [
    "%matplotlib notebook\n",
    "# Plot the data\n",
    "\n",
    "import matplotlib.pyplot as plt\n",
    "import numpy as np\n",
    "x, y = np.loadtxt('sumdata.txt', unpack = True)\n",
    "plt.plot(x, y, 'ro')"
   ]
  },
  {
   "cell_type": "markdown",
   "id": "5f5acba3",
   "metadata": {},
   "source": [
    "As you can see, there are many problems with this approach. When doing computational tasks, you cannot think that  you are doing maths, you need to think also about the computer. \n",
    "\n",
    "Now try to avoid the intrinsic overflows, underflows (and substractive cancelations) by reworking the sum term in a recurrent way: if \n",
    "$$a_i = (-1)^i \\frac{x^i}{i!}$$\n",
    "how could you write $a_{i+1}$ as a function of $a_i$? Thin about it and then check the next cell."
   ]
  },
  {
   "cell_type": "markdown",
   "id": "61d93060",
   "metadata": {},
   "source": [
    "\n",
    "$$a_{i+1} = \\frac{-x a_i}{i+1}$$\n"
   ]
  },
  {
   "cell_type": "markdown",
   "id": "4e3d5925",
   "metadata": {},
   "source": [
    "Now your task is to implement a second version using the recurrence function and compare the results with the first one. Write a function that prints `i expansion1 expansion2` and plot the. Is there any advantage on using the new form?"
   ]
  },
  {
   "cell_type": "code",
   "execution_count": null,
   "id": "8863a6c7",
   "metadata": {
    "deletable": false,
    "nbgrader": {
     "cell_type": "code",
     "checksum": "b94b5eeedc13a8911eb14f760e77325a",
     "grade": false,
     "grade_id": "cell-5b31ce3df3fd6d08",
     "locked": false,
     "schema_version": 3,
     "solution": true,
     "task": false
    }
   },
   "outputs": [],
   "source": [
    "# use fout.write(f\"...\") to save the data \n",
    "def exp_expansion_new(x, N, fname):\n",
    "    \"\"\"Add docs here\"\"\"\n",
    "    total = 0.0\n",
    "    a_i = 1.0\n",
    "    total2 = 0.0\n",
    "    fout = open(fname, \"w\")\n",
    "    # YOUR CODE HERE\n",
    "    raise NotImplementedError()\n",
    "    fout.close()\n",
    "\n",
    "# Call the NEW function  \n",
    "exp_expansion_new(x=1.8766, N=10000, fname=\"sumdatanew.txt\")"
   ]
  },
  {
   "cell_type": "code",
   "execution_count": null,
   "id": "03e78a72",
   "metadata": {},
   "outputs": [],
   "source": [
    "%matplotlib notebook\n",
    "# Plot the data\n",
    "\n",
    "import matplotlib.pyplot as plt\n",
    "import numpy as np\n",
    "x, y, z = np.loadtxt('sumdatanew.txt', unpack = True)\n",
    "plt.plot(x, y, 'ro')\n",
    "plt.plot(x, z, 'b-')"
   ]
  },
  {
   "cell_type": "code",
   "execution_count": null,
   "id": "160b4714",
   "metadata": {},
   "outputs": [],
   "source": []
  }
 ],
 "metadata": {
  "kernelspec": {
   "display_name": "Python 3 (ipykernel)",
   "language": "python",
   "name": "python3"
  },
  "language_info": {
   "codemirror_mode": {
    "name": "ipython",
    "version": 3
   },
   "file_extension": ".py",
   "mimetype": "text/x-python",
   "name": "python",
   "nbconvert_exporter": "python",
   "pygments_lexer": "ipython3",
   "version": "3.10.6"
  },
  "toc": {
   "base_numbering": 1,
   "nav_menu": {},
   "number_sections": true,
   "sideBar": true,
   "skip_h1_title": false,
   "title_cell": "Table of Contents",
   "title_sidebar": "Contents",
   "toc_cell": false,
   "toc_position": {
    "height": "calc(100% - 180px)",
    "left": "10px",
    "top": "150px",
    "width": "234.333px"
   },
   "toc_section_display": true,
   "toc_window_display": true
  }
 },
 "nbformat": 4,
 "nbformat_minor": 5
}
